{
 "cells": [
  {
   "cell_type": "markdown",
   "metadata": {},
   "source": [
    "## Final Project Submission\n",
    "\n",
    "Please fill out:\n",
    "* Student name: Stephen Nderitu Waweru\n",
    "* Student pace: full time\n",
    "* Scheduled project review date/time: \n",
    "* Instructor name: \n",
    "* Blog post URL:\n"
   ]
  },
  {
   "cell_type": "markdown",
   "metadata": {},
   "source": [
    "# Film Industry Exploratory Data Analysis\n",
    "\n",
    "## Context\n",
    "To help a new film studio navigate the competitive movie industry, we are exploring data related to different genres of films that performed well on the box office.\n",
    "\n",
    "This includes examining ratings, budgets (production and marketing), genres, persons (directors & actors attatched to the film) and the audiences preferences. By understanding what is successful, the studio can make informed decisions about the types to develop, ensuring they alight with market demands and maximize profitability.\n",
    "\n",
    "The three buisness questions I seek to answer in this analysis are:\n",
    "1. What Genres Are Most Profitable?\n",
    "2. Does Release Date Influence Opening Weekend Box Office Success?\n",
    "3. Which directors have the highest success rate?\n",
    "\n",
    "## Data\n",
    "I'll be using two datasets and one database;\n",
    "1. im.db from the International Movies Data Base website (link: https://www.imdb.com/)\n",
    "2. tn.movie_budgets.csv.gz from The Numbers website (link: https://www.the-numbers.com/)\n",
    "3. bom.movie_gross.csv.gz from Box Office Mojo website (link: https://www.boxofficemojo.com/)\n"
   ]
  },
  {
   "cell_type": "code",
   "execution_count": 961,
   "metadata": {
    "tags": []
   },
   "outputs": [],
   "source": [
    "# Loading relevant libraries and modules\n",
    "\n",
    "import pandas as pd\n",
    "import numpy as np\n",
    "import matplotlib.pyplot as plt\n",
    "import seaborn as sns\n",
    "import sqlite3\n"
   ]
  },
  {
   "cell_type": "code",
   "execution_count": 962,
   "metadata": {
    "tags": []
   },
   "outputs": [],
   "source": [
    "# Loading the data and databases\n",
    "box_mojo_df = pd.read_csv('bom.movie_gross.csv.gz')\n",
    "the_numbers_df = pd.read_csv('tn.movie_budgets.csv.gz')\n",
    "imdb_conn = sqlite3.connect('im.db') # Creates a connection to the database\n",
    "cursor = imdb_conn.cursor() #create cursor"
   ]
  },
  {
   "cell_type": "markdown",
   "metadata": {},
   "source": [
    "## Look at the Columns and Details of The Data"
   ]
  },
  {
   "cell_type": "code",
   "execution_count": 964,
   "metadata": {
    "tags": []
   },
   "outputs": [
    {
     "name": "stdout",
     "output_type": "stream",
     "text": [
      "This is the persons table contents\n"
     ]
    },
    {
     "ename": "OperationalError",
     "evalue": "no such table: persons",
     "output_type": "error",
     "traceback": [
      "\u001b[1;31m---------------------------------------------------------------------------\u001b[0m",
      "\u001b[1;31mOperationalError\u001b[0m                          Traceback (most recent call last)",
      "Cell \u001b[1;32mIn[964], line 13\u001b[0m\n\u001b[0;32m     11\u001b[0m \u001b[38;5;28;01mfor\u001b[39;00m message, query \u001b[38;5;129;01min\u001b[39;00m queries:\n\u001b[0;32m     12\u001b[0m     \u001b[38;5;28mprint\u001b[39m(message)\n\u001b[1;32m---> 13\u001b[0m     cursor\u001b[38;5;241m.\u001b[39mexecute(query)\n\u001b[0;32m     14\u001b[0m     rows \u001b[38;5;241m=\u001b[39m cursor\u001b[38;5;241m.\u001b[39mfetchall()\n\u001b[0;32m     15\u001b[0m     \u001b[38;5;28mprint\u001b[39m(rows)\n",
      "\u001b[1;31mOperationalError\u001b[0m: no such table: persons"
     ]
    }
   ],
   "source": [
    "# A quick peek at the database schema\n",
    "# Define the queries and their corresponding table names\n",
    "queries = [\n",
    "    (\"This is the persons table contents\", \"SELECT * FROM persons LIMIT 10;\"),\n",
    "    (\"This is the movie ratings table contents\", \"SELECT * FROM movie_ratings LIMIT 10;\"),\n",
    "    (\"This is the movie basics table contents\", \"SELECT * FROM movie_basics LIMIT 10;\"),\n",
    "    (\"This is the movie akas table contents\", \"SELECT * FROM movie_akas LIMIT 10;\"),\n",
    "    (\"This is the principals table contents\", \"SELECT * FROM principals LIMIT 10;\")]\n",
    "\n",
    "# Execute the queries and print the results\n",
    "for message, query in queries:\n",
    "    print(message)\n",
    "    cursor.execute(query)\n",
    "    rows = cursor.fetchall()\n",
    "    print(rows)"
   ]
  },
  {
   "cell_type": "code",
   "execution_count": null,
   "metadata": {
    "tags": []
   },
   "outputs": [],
   "source": [
    "box_mojo_df.head()"
   ]
  },
  {
   "cell_type": "code",
   "execution_count": null,
   "metadata": {
    "tags": []
   },
   "outputs": [],
   "source": [
    "the_numbers_df.head()"
   ]
  },
  {
   "cell_type": "code",
   "execution_count": null,
   "metadata": {
    "tags": []
   },
   "outputs": [],
   "source": [
    "the_numbers_df.info()"
   ]
  },
  {
   "cell_type": "code",
   "execution_count": null,
   "metadata": {
    "tags": []
   },
   "outputs": [],
   "source": [
    "box_mojo_df.info()"
   ]
  },
  {
   "cell_type": "markdown",
   "metadata": {},
   "source": [
    "# Data Preparation"
   ]
  },
  {
   "cell_type": "markdown",
   "metadata": {},
   "source": [
    "## Drop null values and create new columns\n",
    "\n",
    "The foreign gross from the box_mojo dataset is missing over 1000 values. To mitigate this we'll drop the column and use the_numbers_df dataset to create a column with just the foreign gross as worldwide gross is a sum of foreign and domestic as implied in thier website glossary (https://www.the-numbers.com/glossary)."
   ]
  },
  {
   "cell_type": "code",
   "execution_count": null,
   "metadata": {
    "tags": []
   },
   "outputs": [],
   "source": [
    "box_mojo_df.isnull().sum()"
   ]
  },
  {
   "cell_type": "code",
   "execution_count": null,
   "metadata": {
    "tags": []
   },
   "outputs": [],
   "source": [
    "box_mojo_df = box_mojo_df.drop('foreign_gross', axis=1)"
   ]
  },
  {
   "cell_type": "code",
   "execution_count": null,
   "metadata": {
    "tags": []
   },
   "outputs": [],
   "source": [
    "# Remove the dollar sign,$ and the commas ',' from the columns and turn them into numeric values\n",
    "\n",
    "the_numbers_df['production_budget'] = pd.to_numeric(the_numbers_df['production_budget'].replace({'\\$': '', ',': ''}, regex=True))\n",
    "the_numbers_df['domestic_gross'] = pd.to_numeric(the_numbers_df['domestic_gross'].replace({'\\$': '', ',': ''}, regex=True))\n",
    "the_numbers_df['worldwide_gross'] = pd.to_numeric(the_numbers_df['worldwide_gross'].replace({'\\$': '', ',': ''}, regex=True))\n"
   ]
  },
  {
   "cell_type": "code",
   "execution_count": null,
   "metadata": {
    "tags": []
   },
   "outputs": [],
   "source": [
    "the_numbers_df['foreign_gross'] = the_numbers_df['worldwide_gross'] - the_numbers_df['domestic_gross']"
   ]
  },
  {
   "cell_type": "code",
   "execution_count": null,
   "metadata": {
    "tags": []
   },
   "outputs": [],
   "source": [
    "# Convert release_date column into a datetime object and create a year column and a profit column\n",
    "the_numbers_df['release_date'] = pd.to_datetime(the_numbers_df['release_date'], format='%b %d, %Y')\n",
    "the_numbers_df['year'] = the_numbers_df['release_date'].dt.year\n",
    "the_numbers_df.loc[:, 'profit'] = the_numbers_df['worldwide_gross'] - the_numbers_df['production_budget']\n",
    "the_numbers_df = the_numbers_df.sort_values(by='profit', ascending=False)\n",
    "the_numbers_df.info()"
   ]
  },
  {
   "cell_type": "code",
   "execution_count": null,
   "metadata": {
    "tags": []
   },
   "outputs": [],
   "source": [
    "# Check for Duplicates and Drop them\n",
    "the_numbers_df = the_numbers_df.drop_duplicates(subset=['movie'], keep='last')\n",
    "duplicates = box_mojo_df[box_mojo_df.duplicated(keep=False)]\n",
    "box_mojo_df.dropna()\n",
    "box_mojo_df.info()"
   ]
  },
  {
   "cell_type": "code",
   "execution_count": null,
   "metadata": {
    "tags": []
   },
   "outputs": [],
   "source": [
    "the_numbers_df.info()"
   ]
  },
  {
   "cell_type": "markdown",
   "metadata": {},
   "source": [
    "## Use the imdb Database to Create a Dataframe\n",
    "\n",
    "I'll use the im.db database to create a dataframe with genre, director, movie title, region, averagerating and number of votes."
   ]
  },
  {
   "cell_type": "code",
   "execution_count": null,
   "metadata": {
    "tags": []
   },
   "outputs": [],
   "source": [
    "imdb_query = \"\"\"\n",
    "SELECT\n",
    "    mb.primary_title,\n",
    "    mb.genres,\n",
    "    p.primary_name,\n",
    "    ma.region,\n",
    "    mr.averagerating,\n",
    "    mr.numvotes\n",
    "FROM movie_basics AS mb\n",
    "JOIN directors AS d\n",
    "    ON mb.movie_id = d.movie_id\n",
    "JOIN persons AS p\n",
    "    ON d.person_id = p.person_id\n",
    "JOIN movie_akas AS ma\n",
    "    ON mb.movie_id = ma.movie_id\n",
    "JOIN movie_ratings as mr\n",
    "    ON mr.movie_id = mb.movie_id\n",
    "WHERE p.primary_profession LIKE '%director%';\n",
    "\"\"\"\n",
    "imdb_df = pd.read_sql(imdb_query, imdb_conn)\n",
    "imdb_conn.close()\n",
    "imdb_df"
   ]
  },
  {
   "cell_type": "code",
   "execution_count": null,
   "metadata": {
    "tags": []
   },
   "outputs": [],
   "source": [
    "imdb_df = imdb_df.drop_duplicates(subset=['primary_title'], keep='last')\n",
    "imdb_df"
   ]
  },
  {
   "cell_type": "code",
   "execution_count": null,
   "metadata": {
    "tags": []
   },
   "outputs": [],
   "source": [
    "# Check for Null values and drop them\n",
    "imdb_df.info()\n",
    "imdb_df.dropna()"
   ]
  },
  {
   "cell_type": "code",
   "execution_count": null,
   "metadata": {
    "tags": []
   },
   "outputs": [],
   "source": [
    "# Rename the movie title columns to movie_title which we'll use as the primary key\n",
    "imdb_df = imdb_df.rename(columns={'primary_title': 'movie_title'})\n",
    "the_numbers_df = the_numbers_df.rename(columns={'movie': 'movie_title'})\n",
    "box_mojo_df = box_mojo_df.rename(columns={'title': 'movie_title'})\n"
   ]
  },
  {
   "cell_type": "code",
   "execution_count": null,
   "metadata": {
    "tags": []
   },
   "outputs": [],
   "source": [
    "movie_data = pd.merge(box_mojo_df,\n",
    "                      the_numbers_df,\n",
    "                      on=['movie_title'],\n",
    "                      how='inner')\n",
    "movie_data.info()"
   ]
  },
  {
   "cell_type": "code",
   "execution_count": null,
   "metadata": {
    "tags": []
   },
   "outputs": [],
   "source": [
    "final_movie_df = pd.merge(movie_data,\n",
    "                      imdb_df,\n",
    "                      on=['movie_title'],\n",
    "                      how='inner')\n",
    "final_movie_df.info()"
   ]
  },
  {
   "cell_type": "code",
   "execution_count": null,
   "metadata": {
    "tags": []
   },
   "outputs": [],
   "source": [
    "final_movie_df = final_movie_df.drop(columns=['domestic_gross_x', 'year_x'])\n",
    "final_movie_df = final_movie_df.rename(columns={'domestic_gross_y': 'domestic_gross'})\n",
    "final_movie_df = final_movie_df.rename(columns={'year_y': 'year'})\n",
    "final_movie_df = final_movie_df.rename(columns={'profit': 'gross_profit'})\n",
    "final_movie_df = final_movie_df.rename(columns={'primary_name': 'director'})\n",
    "final_movie_df['release_month'] = final_movie_df['release_date'].dt.strftime('%b')\n",
    "final_movie_df['release_day'] = final_movie_df['release_date'].dt.strftime('%d')\n",
    "final_movie_df = final_movie_df.drop(columns=['id', 'release_date', 'domestic_gross','worldwide_gross','foreign_gross','region','numvotes'])\n",
    "final_movie_df.info()"
   ]
  },
  {
   "cell_type": "markdown",
   "metadata": {
    "tags": []
   },
   "source": [
    "## Initial Exploratory Analysis"
   ]
  },
  {
   "cell_type": "markdown",
   "metadata": {},
   "source": [
    "### Highest Grossing Studios in The Last Ten Years\n",
    "In this initial analysis we will analyse the highest grossing studios by theatrical releases. I'll use the\n",
    "box_mojo_df dataframe."
   ]
  },
  {
   "cell_type": "code",
   "execution_count": null,
   "metadata": {
    "tags": []
   },
   "outputs": [],
   "source": [
    "top_10_films = the_numbers_df.sort_values(by='profit', ascending=False).head(10)\n",
    "\n",
    "plt.figure(figsize=(14, 10))\n",
    "bars = plt.barh(top_10_films['movie_title'], top_10_films['profit'], color='skyblue')\n",
    "plt.xlabel('Profit ($000)')\n",
    "plt.title('Profit of the Top 10 Films (Highest to Lowest)')\n",
    "\n",
    "# Adding profit labels on top of each bar\n",
    "for bar, profit in zip(bars, top_10_films['profit']):\n",
    "    plt.text(bar.get_width() + 0.05 * bar.get_width(), bar.get_y() + bar.get_height()/2, \n",
    "             f'{profit/1e6:.2f}M', va='center', ha='left')\n",
    "\n",
    "plt.gca().invert_yaxis()  # Invert y-axis to have the lowest profit at the top\n",
    "plt.tight_layout()\n",
    "plt.show()"
   ]
  },
  {
   "cell_type": "code",
   "execution_count": null,
   "metadata": {
    "tags": []
   },
   "outputs": [],
   "source": [
    "# Profits made vs Production Budget in the Market per the last twenty years\n",
    "# Filter data for the last 10 years\n",
    "last_20_years_df = the_numbers_df[the_numbers_df['year'] >= the_numbers_df['year'].max() - 19]\n",
    "\n",
    "# Plot\n",
    "plt.figure(figsize=(14, 7))\n",
    "plt.plot(last_20_years_df.groupby('year')['profit'].sum(), label='Total Profit', marker='o')\n",
    "plt.plot(last_20_years_df.groupby('year')['production_budget'].sum(), label='Total Production Budget', marker='o')\n",
    "plt.xlabel('Year')\n",
    "plt.ylabel('Amount ($)')\n",
    "plt.title('Yearly Time Series of Profit and Production Budget (Last 10 Years)')\n",
    "plt.legend()\n",
    "plt.grid(True)\n",
    "plt.tight_layout()\n",
    "plt.show()"
   ]
  },
  {
   "cell_type": "markdown",
   "metadata": {},
   "source": [
    "### Profit vs Production_Budget\n",
    "It seems the market favours a higher production budget to maximize profitIn the context of the data analysis, there is a strong positive correlation between production budget and profit. This suggests that increasing the production budget is associated with a higher profit, indicating that the market trend supports allocating a larger budget to optimize profitability.\n",
    "\n",
    "The graph below illustrates this better with the production budget "
   ]
  },
  {
   "cell_type": "code",
   "execution_count": null,
   "metadata": {
    "tags": []
   },
   "outputs": [],
   "source": [
    "# Assume 'productivity' refers to 'production_budget'\n",
    "top_10_films = the_numbers_df.sort_values(by='profit', ascending=False).head(10)\n",
    "\n",
    "plt.figure(figsize=(14, 10))\n",
    "\n",
    "# Plotting 'production_budget' bars\n",
    "bars_budget = plt.barh(top_10_films['movie_title'], top_10_films['production_budget'], color='lightgreen', label='Production Budget')\n",
    "\n",
    "# Plotting 'profit' bars on top of 'production_budget'\n",
    "bars_profit = plt.barh(top_10_films['movie_title'], top_10_films['profit'], left=top_10_films['production_budget'], color='cyan', label='Profit')\n",
    "\n",
    "plt.xlabel('Amount ($000)')\n",
    "plt.title('Production Budget and Profit of the Top 10 Films')\n",
    "\n",
    "# Adding labels for profit on the bars\n",
    "for bar, profit in zip(bars_profit, top_10_films['profit']):\n",
    "    plt.text(bar.get_x() + bar.get_width() + 0.05 * bar.get_width(), \n",
    "             bar.get_y() + bar.get_height()/2, \n",
    "             f'{profit/1e6:.2f}M', va='center', ha='left', fontsize=10)\n",
    "\n",
    "# Adding labels for production budget on the bars\n",
    "for bar, budget in zip(bars_budget, top_10_films['production_budget']):\n",
    "    plt.text(bar.get_x() + bar.get_width() - 0.1 * bar.get_width(), \n",
    "             bar.get_y() + bar.get_height()/2, \n",
    "             f'{budget/1e6:.2f}M', va='center', ha='right', fontsize=10)\n",
    "\n",
    "plt.gca().invert_yaxis()  # Invert y-axis to have the highest profit at the top\n",
    "plt.legend()\n",
    "plt.tight_layout()\n",
    "plt.show()"
   ]
  },
  {
   "cell_type": "code",
   "execution_count": null,
   "metadata": {
    "tags": []
   },
   "outputs": [],
   "source": [
    "\n",
    "# Calculate the standard deviation of the production budget per year\n",
    "std_dev_per_year = the_numbers_df.groupby('year')['production_budget'].std()\n",
    "\n",
    "# Plotting the standard deviation over time\n",
    "plt.figure(figsize=(14, 7))\n",
    "plt.plot(std_dev_per_year.index, std_dev_per_year.values, marker='o', linestyle='-', color='skyblue')\n",
    "plt.title('Standard Deviation of Production Budget Over Time')\n",
    "plt.xlabel('Year')\n",
    "plt.ylabel('Standard Deviation of Production Budget ($000)')\n",
    "plt.grid(True)\n",
    "plt.tight_layout()\n",
    "plt.show()"
   ]
  },
  {
   "cell_type": "markdown",
   "metadata": {},
   "source": [
    "## Use Statistical Test To Check The Significance Of Our Cleaned Data"
   ]
  },
  {
   "cell_type": "code",
   "execution_count": null,
   "metadata": {
    "tags": []
   },
   "outputs": [],
   "source": [
    "# Use the Kolmogorov-Smirnov Test to check if final_movie_df represents the population data we just cleaned\n",
    "\n",
    "from scipy.stats import ks_2samp # import the stats module for K-S test\n",
    "\n",
    "statistic, p_value = ks_2samp(the_numbers_df['profit'], final_movie_df['gross_profit'])\n",
    "print(f\"K-S Statistic: {statistic}, P-Value: {p_value}\")"
   ]
  },
  {
   "cell_type": "code",
   "execution_count": null,
   "metadata": {
    "tags": []
   },
   "outputs": [],
   "source": [
    "from scipy.stats import chi2_contingency\n",
    "\n",
    "# Example data for demonstration\n",
    "\n",
    "# 1. Calculate observed frequencies in final_movie_df\n",
    "observed_freq = final_movie_df['genres'].value_counts()\n",
    "\n",
    "# 2. Calculate expected frequencies based on the_numbers_df proportions\n",
    "total_genres = imdb_df['genres'].value_counts()\n",
    "expected_freq = total_genres * (len(final_movie_df) / len(the_numbers_df))\n",
    "\n",
    "# 3. Chi-Square Test of Goodness of Fit\n",
    "chi2_stat, p_value, _, _ = chi2_contingency([observed_freq, expected_freq])\n",
    "\n",
    "print(f\"Chi-Square Statistic: {chi2_stat}, P-Value: {p_value}\")"
   ]
  },
  {
   "cell_type": "markdown",
   "metadata": {
    "tags": []
   },
   "source": [
    "## The Three Buisness Questions\n",
    "\n",
    "Returning to the three buisness questions we needed answered i.e\n",
    "\n",
    "1. What Genres Are Most Profitable?\n",
    "2. Does Release Date Influence Opening Weekend Box Office Success?\n",
    "3. Which the directors have the highest success rate?\n",
    "\n"
   ]
  },
  {
   "cell_type": "markdown",
   "metadata": {},
   "source": [
    "### What Genres Are Most Profitable? \n",
    "\n",
    "From the visualisation below we can see combination of either action or adventure or both genres have the highest gross profit. When elements of Drama, Comedy or science fiction are added to this combination it increases the chances of making greater margins. So if there were to be three combinations our film buisness should invest in it would be:\n",
    "- **Action, Drama, Adventure**\n",
    "- **Adventure, Sci-Fi, Action**\n",
    "- **Adventure, Comedy, Action**\n",
    "\n",
    "Documentary, Biography, History and Sport are not replicable since content itself may not be copyrighted (facts and historical events are in the public domain thus are not considered original video content in this context."
   ]
  },
  {
   "cell_type": "code",
   "execution_count": null,
   "metadata": {
    "tags": []
   },
   "outputs": [],
   "source": [
    "profit_genres_mean = final_movie_df[['genres','gross_profit']].groupby(['genres']).agg(['count','mean', 'median'])\n",
    "profit_genres_mean.sort_values(by=('gross_profit','count'), ascending=False).head(20)"
   ]
  },
  {
   "cell_type": "code",
   "execution_count": null,
   "metadata": {
    "tags": []
   },
   "outputs": [],
   "source": [
    "# Visulaise the average profit per genre combination\n",
    "genre_profit = final_movie_df.groupby('genres')['gross_profit'].mean().sort_values(ascending=False).head(20)\n",
    "plt.figure(figsize=(14, 10))\n",
    "bars = plt.barh(genre_profit.index, genre_profit.values, color='skyblue')\n",
    "plt.xlabel('Profit ($00000000)')\n",
    "plt.title('Profit by Genre')\n",
    "plt.tight_layout()\n",
    "plt.show()"
   ]
  },
  {
   "cell_type": "markdown",
   "metadata": {
    "tags": []
   },
   "source": [
    "### Does Release Date Influence Opening Weekend Box Office Success?\n",
    "Studios release movies  based on particular holidays and months in order to target the overall sentiments. This means some months have higher revenue generation than other months. The visualisation below illustrates five months that have high profits, namely:\n",
    "- **May**\n",
    "- **June**\n",
    "- **July**\n",
    "- **November**\n",
    "- **December**\n",
    "\n",
    "It would be advisable to the buisness to consider timing it's releases around these months for better returns."
   ]
  },
  {
   "cell_type": "code",
   "execution_count": null,
   "metadata": {
    "tags": []
   },
   "outputs": [],
   "source": [
    "average_profit_per_month = final_movie_df.groupby('release_month')['gross_profit'].mean()\n",
    "\n",
    "# Plotting the average profit per month\n",
    "plt.figure(figsize=(14, 7))\n",
    "plt.plot(average_profit_per_month.index, average_profit_per_month.values, label='Average Profit', marker='o', linestyle='-')\n",
    "plt.xlabel('Month')\n",
    "plt.ylabel('Average Profit ($)')\n",
    "plt.title('Average Monthly Profit')\n",
    "plt.legend()\n",
    "plt.grid(True)\n",
    "plt.tight_layout()\n",
    "plt.show()"
   ]
  },
  {
   "cell_type": "markdown",
   "metadata": {},
   "source": [
    "To specify the release day's of the month with most gross profit, below is an additional visualization for this variable. The most successful realease day is usually on the **3rd of the month** as shown."
   ]
  },
  {
   "cell_type": "code",
   "execution_count": null,
   "metadata": {
    "tags": []
   },
   "outputs": [],
   "source": [
    "average_profit_per_date = final_movie_df.groupby('release_day')['gross_profit'].mean()\n",
    "\n",
    "# Plotting the average profit per month\n",
    "plt.figure(figsize=(14, 7))\n",
    "plt.plot(average_profit_per_date.index, average_profit_per_date.values, label='Average Profit', marker='o', linestyle='-')\n",
    "plt.xlabel('Month')\n",
    "plt.ylabel('Average Profit ($)')\n",
    "plt.title('Average Date Profit')\n",
    "plt.legend()\n",
    "plt.grid(True)\n",
    "plt.tight_layout()\n",
    "plt.show()"
   ]
  },
  {
   "cell_type": "markdown",
   "metadata": {},
   "source": [
    "### Which directors have the highest success rate?\n",
    "Based on experience and mean gross profit the top five directors the new buisness stakeholders can trust with a big budget film are:\n",
    "- **Steven Spielberg**\n",
    "- **Clint Eastwood**\n",
    "- **Francis Lawrence**\n",
    "- **Jon M. Chu**\n",
    "- **Tim Story**\n",
    "\n",
    "These directors have consistent profitability in the projects they undertake despite not having the highest grossing films of all time."
   ]
  },
  {
   "cell_type": "code",
   "execution_count": null,
   "metadata": {
    "tags": []
   },
   "outputs": [],
   "source": [
    "profit_directors_mean = final_movie_df[['director','gross_profit']].groupby(['director']).agg(['count','mean', 'median'])\n",
    "profit_directors_mean.sort_values(by=('gross_profit','count'), ascending=False).head(20)"
   ]
  },
  {
   "cell_type": "code",
   "execution_count": null,
   "metadata": {
    "tags": []
   },
   "outputs": [],
   "source": [
    "directors_profit = final_movie_df.groupby('director')['gross_profit'].mean().sort_values(ascending=False).head(20)\n",
    "plt.figure(figsize=(14, 10))\n",
    "bars = plt.barh(directors_profit.index, directors_profit.values, color='darkblue')\n",
    "plt.xlabel('Profit ($00000000)')\n",
    "plt.title('Profit by Genre')\n",
    "plt.tight_layout()\n",
    "plt.show()"
   ]
  },
  {
   "cell_type": "markdown",
   "metadata": {
    "tags": []
   },
   "source": [
    "### Profit Projections For Future Years\n",
    "\n",
    "In addition to showing the best course of action when starting a film buisness, it would be prudent to have a projection of the market based on available data to provide insight on whether the trend is favourable."
   ]
  },
  {
   "cell_type": "code",
   "execution_count": null,
   "metadata": {
    "tags": []
   },
   "outputs": [],
   "source": [
    "from sklearn.preprocessing import StandardScaler, OneHotEncoder\n",
    "from sklearn.compose import ColumnTransformer\n",
    "from sklearn.pipeline import Pipeline\n",
    "from sklearn.model_selection import train_test_split\n",
    "from sklearn.linear_model import LinearRegression\n",
    "from sklearn.metrics import mean_squared_error, mean_absolute_error, r2_score\n",
    "\n",
    "# Example data\n",
    "# final_movie_df = pd.read_csv('your_data.csv')  # Load your data here\n",
    "\n",
    "# Prepare feature columns and target variable\n",
    "features = ['production_budget', 'year', 'genres', 'director', 'averagerating', 'release_month', 'release_day']\n",
    "target = 'gross_profit'\n",
    "\n",
    "# Define numerical and categorical features\n",
    "numerical_features = ['production_budget', 'year', 'averagerating']\n",
    "categorical_features = ['genres', 'director', 'release_month', 'release_day']\n",
    "\n",
    "# Create a column transformer\n",
    "preprocessor = ColumnTransformer(\n",
    "    transformers=[\n",
    "        ('num', StandardScaler(), numerical_features),\n",
    "        ('cat', OneHotEncoder(drop='first'), categorical_features)\n",
    "    ])\n",
    "\n",
    "# Prepare Data for Regression\n",
    "X = final_movie_df[features]\n",
    "y = final_movie_df[target]\n",
    "\n",
    "# Apply preprocessing\n",
    "X_preprocessed = preprocessor.fit_transform(X)\n",
    "\n",
    "# Split the data\n",
    "X_train, X_test, y_train, y_test = train_test_split(X_preprocessed, y, test_size=0.2, random_state=42)\n",
    "\n",
    "# Initialize and train the linear regression model\n",
    "model = LinearRegression()\n",
    "model.fit(X_train, y_train)\n",
    "\n",
    "# Predict on the test set\n",
    "y_pred = model.predict(X_test)\n",
    "\n",
    "# Evaluate the model\n",
    "mse = mean_squared_error(y_test, y_pred)\n",
    "mae = mean_absolute_error(y_test, y_pred)\n",
    "r2 = r2_score(y_test, y_pred)\n",
    "\n",
    "print(f'MSE: {mse}, MAE: {mae}, R^2: {r2}')\n",
    "\n",
    "# Print model coefficients\n",
    "feature_names = (\n",
    "    numerical_features +\n",
    "    list(preprocessor.named_transformers_['cat'].get_feature_names_out())\n",
    ")\n",
    "coefficients = pd.DataFrame(model.coef_, feature_names, columns=['Coefficient'])\n",
    "coefficients"
   ]
  },
  {
   "cell_type": "code",
   "execution_count": null,
   "metadata": {
    "tags": []
   },
   "outputs": [],
   "source": [
    "import pandas as pd\n",
    "import numpy as np\n",
    "import seaborn as sns\n",
    "import matplotlib.pyplot as plt\n",
    "from sklearn.linear_model import LinearRegression\n",
    "from sklearn.preprocessing import StandardScaler\n",
    "\n",
    "# Sample DataFrame (Replace with your actual DataFrame)\n",
    "final_movie_df = pd.DataFrame({\n",
    "    'production_budget': np.random.randint(1e7, 1e8, 1000),\n",
    "    'year': np.random.randint(2000, 2024, 1000),\n",
    "    'averagerating': np.random.uniform(1, 10, 1000),\n",
    "    'genres': np.random.choice(['Action,Drama,Adventure', 'Adventure,Sci-Fi,Action', 'Adventure,Fantasy,Action', 'Other'], 1000),\n",
    "    'director': np.random.choice(['Steven Spielberg', 'Clint Eastwood', 'Francis Lawrence', 'Jon M. Chu', 'Tim Story', 'Other'], 1000),\n",
    "    'release_month': np.random.choice(['May', 'June', 'July', 'November', 'December', 'Other'], 1000),\n",
    "    'gross_profit': np.random.uniform(1e7, 1e8, 1000)\n",
    "})\n",
    "\n",
    "# Encode categorical variables\n",
    "final_movie_df = pd.get_dummies(final_movie_df, columns=['genres', 'director', 'release_month'], drop_first=True)\n",
    "\n",
    "# Normalize numerical features\n",
    "numerical_features = ['production_budget', 'year', 'averagerating']\n",
    "scaler = StandardScaler()\n",
    "final_movie_df[numerical_features] = scaler.fit_transform(final_movie_df[numerical_features])\n",
    "\n",
    "# Prepare Data for Regression\n",
    "X = final_movie_df[['production_budget', 'year', 'averagerating'] + \n",
    "                    [col for col in final_movie_df.columns if col.startswith('genres_')] + \n",
    "                    [col for col in final_movie_df.columns if col.startswith('director_')] + \n",
    "                    [col for col in final_movie_df.columns if col.startswith('release_month_')]]\n",
    "y = final_movie_df['gross_profit']\n",
    "\n",
    "# Fit the Linear Regression Model\n",
    "model = LinearRegression()\n",
    "model.fit(X, y)\n",
    "\n",
    "# Define combinations, top directors, and high-profit months\n",
    "genre_combinations = ['Action,Drama,Adventure', 'Adventure,Sci-Fi,Action', 'Adventure,Fantasy,Action']\n",
    "top_directors = ['Steven Spielberg', 'Clint Eastwood', 'Francis Lawrence', 'Jon M. Chu', 'Tim Story']\n",
    "high_profit_months = ['May', 'June', 'July', 'November', 'December']\n",
    "\n",
    "# Create a DataFrame for projections\n",
    "projections = []\n",
    "\n",
    "for genre in genre_combinations:\n",
    "    for director in top_directors:\n",
    "        for month in high_profit_months:\n",
    "            # Create a new row for prediction\n",
    "            new_row = {\n",
    "                'production_budget': [1],  # Adjust as needed\n",
    "                'year': [2024],  # Adjust as needed\n",
    "                'averagerating': [7],  # Adjust as needed\n",
    "            }\n",
    "            \n",
    "            # Add genre, director, and month columns\n",
    "            for g in final_movie_df.columns:\n",
    "                if g.startswith('genres_'):\n",
    "                    new_row[g] = [1 if genre in g else 0]\n",
    "                elif g.startswith('director_'):\n",
    "                    new_row[g] = [1 if director in g else 0]\n",
    "                elif g.startswith('release_month_'):\n",
    "                    new_row[g] = [1 if month in g else 0]\n",
    "            \n",
    "            # Convert to DataFrame\n",
    "            new_df = pd.DataFrame(new_row)\n",
    "            new_df[numerical_features] = scaler.transform(new_df[numerical_features])\n",
    "            \n",
    "            # Predict the gross profit\n",
    "            predicted_profit = model.predict(new_df)[0]\n",
    "            projections.append({\n",
    "                'Genre Combination': genre,\n",
    "                'Director': director,\n",
    "                'Month': month,\n",
    "                'Predicted Gross Profit': predicted_profit\n",
    "            })\n",
    "\n",
    "# Convert projections to DataFrame\n",
    "projections_df = pd.DataFrame(projections)\n",
    "\n",
    "# Visualization using seaborn\n",
    "plt.figure(figsize=(14, 7))\n",
    "\n",
    "# Plot projections by genre and director\n",
    "sns.barplot(data=projections_df, x='Genre Combination', y='Predicted Gross Profit', hue='Director', palette='viridis')\n",
    "\n",
    "plt.xlabel('Genre Combination')\n",
    "plt.ylabel('Predicted Gross Profit ($)')\n",
    "plt.title('Projected Gross Profit by Genre Combination and Director')\n",
    "plt.xticks(rotation=45, ha='right')\n",
    "plt.legend(title='Director')\n",
    "plt.tight_layout()\n",
    "plt.show()\n",
    "\n",
    "# Plot average gross profit for high-profit months\n",
    "monthly_profit_avg = final_movie_df[final_movie_df.filter(like='release_month_').columns].copy()\n",
    "monthly_profit_avg['gross_profit'] = final_movie_df['gross_profit']\n",
    "\n",
    "# Aggregate by month\n",
    "monthly_profit_avg = final_movie_df.groupby(\n",
    "    [col for col in final_movie_df.columns if col.startswith('release_month_')]\n",
    ")['gross_profit'].mean().reset_index()\n",
    "\n",
    "# Melt the DataFrame for better visualization\n",
    "monthly_profit_avg = monthly_profit_avg.melt(id_vars=['gross_profit'], var_name='Month', value_name='Average Gross Profit')\n",
    "\n",
    "plt.figure(figsize=(12, 6))\n",
    "sns.barplot(data=monthly_profit_avg, x='Month', y='Average Gross Profit', palette='coolwarm')\n",
    "\n",
    "plt.xlabel('Month')\n",
    "plt.ylabel('Average Gross Profit ($)')\n",
    "plt.title('Average Gross Profit by Month')\n",
    "plt.xticks(rotation=45, ha='right')\n",
    "plt.tight_layout()\n",
    "plt.show()\n"
   ]
  },
  {
   "cell_type": "code",
   "execution_count": null,
   "metadata": {},
   "outputs": [],
   "source": []
  }
 ],
 "metadata": {
  "kernelspec": {
   "display_name": "Python 3 (ipykernel)",
   "language": "python",
   "name": "python3"
  },
  "language_info": {
   "codemirror_mode": {
    "name": "ipython",
    "version": 3
   },
   "file_extension": ".py",
   "mimetype": "text/x-python",
   "name": "python",
   "nbconvert_exporter": "python",
   "pygments_lexer": "ipython3",
   "version": "3.11.7"
  }
 },
 "nbformat": 4,
 "nbformat_minor": 4
}
