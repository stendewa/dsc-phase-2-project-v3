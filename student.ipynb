{
 "cells": [
  {
   "cell_type": "markdown",
   "metadata": {},
   "source": [
    "## Final Project Submission\n",
    "\n",
    "Please fill out:\n",
    "* Student name: Stephen Nderitu Waweru\n",
    "* Student pace: full time\n",
    "* Scheduled project review date/time: \n",
    "* Instructor name: \n",
    "* Blog post URL:\n"
   ]
  },
  {
   "cell_type": "markdown",
   "metadata": {},
   "source": [
    "# Film Industry Exploratory Data Analysis\n",
    "\n",
    "## Context\n",
    "To help a new film studio navigate the competitive movie industry, we are charged with exploring what types of films are currently doing the best at the box office. We must then translate those findings into actionable insights that the head of your company's new movie studio can use to help decide what type of films to create.\n",
    "\n",
    "This includes examining ratings, budgets (production and marketing), genres, persons (directors & actors attatched to the film) and the audiences preferences. By understanding what is successful, the studio can make informed decisions about the types to develop, ensuring they alight with market demands and maximize profitability.\n",
    "\n",
    "The three buisness questions I seek to answer in this analysis are:\n",
    "1. What Genres Are Most Profitable?\n",
    "2. Does Release Date Influence Opening Weekend Box Office Success?\n",
    "3. Which directors have the highest success rate?\n",
    "\n",
    "## Data\n",
    "I'll be using two datasets and one database;\n",
    "1. im.db from the International Movies Data Base website (link: https://www.imdb.com/)\n",
    "2. tn.movie_budgets.csv.gz from The Numbers website (link: https://www.the-numbers.com/)\n",
    "3. bom.movie_gross.csv.gz from Box Office Mojo website (link: https://www.boxofficemojo.com/)\n"
   ]
  },
  {
   "cell_type": "code",
   "execution_count": 42,
   "metadata": {
    "tags": []
   },
   "outputs": [],
   "source": [
    "# Loading relevant libraries and modules\n",
    "\n",
    "import pandas as pd\n",
    "import numpy as np\n",
    "import matplotlib.pyplot as plt\n",
    "import seaborn as sns\n",
    "import sqlite3\n"
   ]
  },
  {
   "cell_type": "code",
   "execution_count": 43,
   "metadata": {
    "tags": []
   },
   "outputs": [],
   "source": [
    "# Loading the data and databases\n",
    "box_mojo_df = pd.read_csv('bom.movie_gross.csv.gz')\n",
    "the_numbers_df = pd.read_csv('tn.movie_budgets.csv.gz')\n",
    "imdb_conn = sqlite3.connect('im.db') # Creates a connection to the database\n",
    "cursor = imdb_conn.cursor() #create cursor"
   ]
  },
  {
   "cell_type": "markdown",
   "metadata": {},
   "source": [
    "## Look at the Columns and Details of The Data"
   ]
  },
  {
   "cell_type": "code",
   "execution_count": 45,
   "metadata": {
    "tags": []
   },
   "outputs": [
    {
     "name": "stdout",
     "output_type": "stream",
     "text": [
      "This is the persons table contents\n",
      "[('nm0061671', 'Mary Ellen Bauder', None, None, 'miscellaneous,production_manager,producer'), ('nm0061865', 'Joseph Bauer', None, None, 'composer,music_department,sound_department'), ('nm0062070', 'Bruce Baum', None, None, 'miscellaneous,actor,writer'), ('nm0062195', 'Axel Baumann', None, None, 'camera_department,cinematographer,art_department'), ('nm0062798', 'Pete Baxter', None, None, 'production_designer,art_department,set_decorator'), ('nm0062879', 'Ruel S. Bayani', None, None, 'director,production_manager,miscellaneous'), ('nm0063198', 'Bayou', None, None, 'actor'), ('nm0063432', 'Stevie Be-Zet', None, None, 'composer,soundtrack'), ('nm0063618', 'Jeff Beal', 1963.0, None, 'composer,music_department,soundtrack'), ('nm0063750', 'Lindsay Beamish', None, None, 'actress,miscellaneous')]\n",
      "This is the movie ratings table contents\n",
      "[('tt10356526', 8.3, 31), ('tt10384606', 8.9, 559), ('tt1042974', 6.4, 20), ('tt1043726', 4.2, 50352), ('tt1060240', 6.5, 21), ('tt1069246', 6.2, 326), ('tt1094666', 7.0, 1613), ('tt1130982', 6.4, 571), ('tt1156528', 7.2, 265), ('tt1161457', 4.2, 148)]\n",
      "This is the movie basics table contents\n",
      "[('tt0063540', 'Sunghursh', 'Sunghursh', 2013, 175.0, 'Action,Crime,Drama'), ('tt0066787', 'One Day Before the Rainy Season', 'Ashad Ka Ek Din', 2019, 114.0, 'Biography,Drama'), ('tt0069049', 'The Other Side of the Wind', 'The Other Side of the Wind', 2018, 122.0, 'Drama'), ('tt0069204', 'Sabse Bada Sukh', 'Sabse Bada Sukh', 2018, None, 'Comedy,Drama'), ('tt0100275', 'The Wandering Soap Opera', 'La Telenovela Errante', 2017, 80.0, 'Comedy,Drama,Fantasy'), ('tt0111414', 'A Thin Life', 'A Thin Life', 2018, 75.0, 'Comedy'), ('tt0112502', 'Bigfoot', 'Bigfoot', 2017, None, 'Horror,Thriller'), ('tt0137204', 'Joe Finds Grace', 'Joe Finds Grace', 2017, 83.0, 'Adventure,Animation,Comedy'), ('tt0139613', 'O Silêncio', 'O Silêncio', 2012, None, 'Documentary,History'), ('tt0144449', 'Nema aviona za Zagreb', 'Nema aviona za Zagreb', 2012, 82.0, 'Biography')]\n",
      "This is the movie akas table contents\n",
      "[('tt0369610', 10, 'Джурасик свят', 'BG', 'bg', None, None, 0.0), ('tt0369610', 11, 'Jurashikku warudo', 'JP', None, 'imdbDisplay', None, 0.0), ('tt0369610', 12, 'Jurassic World: O Mundo dos Dinossauros', 'BR', None, 'imdbDisplay', None, 0.0), ('tt0369610', 13, 'O Mundo dos Dinossauros', 'BR', None, None, 'short title', 0.0), ('tt0369610', 14, 'Jurassic World', 'FR', None, 'imdbDisplay', None, 0.0), ('tt0369610', 15, 'Jurassic World', 'GR', None, 'imdbDisplay', None, 0.0), ('tt0369610', 16, 'Jurassic World', 'IT', None, 'imdbDisplay', None, 0.0), ('tt0369610', 17, 'Jurski svijet', 'HR', None, 'imdbDisplay', None, 0.0), ('tt0369610', 18, \"Olam ha'Yura\", 'IL', 'he', 'imdbDisplay', None, 0.0), ('tt0369610', 19, 'Jurassic World: Mundo Jurásico', 'MX', None, 'imdbDisplay', None, 0.0)]\n",
      "This is the principals table contents\n",
      "[('tt0111414', 1, 'nm0246005', 'actor', None, '[\"The Man\"]'), ('tt0111414', 2, 'nm0398271', 'director', None, None), ('tt0111414', 3, 'nm3739909', 'producer', 'producer', None), ('tt0323808', 10, 'nm0059247', 'editor', None, None), ('tt0323808', 1, 'nm3579312', 'actress', None, '[\"Beth Boothby\"]'), ('tt0323808', 2, 'nm2694680', 'actor', None, '[\"Steve Thomson\"]'), ('tt0323808', 3, 'nm0574615', 'actor', None, '[\"Sir Lachlan Morrison\"]'), ('tt0323808', 4, 'nm0502652', 'actress', None, '[\"Lady Delia Morrison\"]'), ('tt0323808', 5, 'nm0362736', 'director', None, None), ('tt0323808', 6, 'nm0811056', 'producer', 'producer', None)]\n"
     ]
    }
   ],
   "source": [
    "# A quick peek at the database schema\n",
    "# Define the queries and their corresponding table names\n",
    "queries = [\n",
    "    (\"This is the persons table contents\", \"SELECT * FROM persons LIMIT 10;\"),\n",
    "    (\"This is the movie ratings table contents\", \"SELECT * FROM movie_ratings LIMIT 10;\"),\n",
    "    (\"This is the movie basics table contents\", \"SELECT * FROM movie_basics LIMIT 10;\"),\n",
    "    (\"This is the movie akas table contents\", \"SELECT * FROM movie_akas LIMIT 10;\"),\n",
    "    (\"This is the principals table contents\", \"SELECT * FROM principals LIMIT 10;\")]\n",
    "\n",
    "# Execute the queries and print the results\n",
    "for message, query in queries:\n",
    "    print(message)\n",
    "    cursor.execute(query)\n",
    "    rows = cursor.fetchall()\n",
    "    print(rows)"
   ]
  },
  {
   "cell_type": "code",
   "execution_count": 46,
   "metadata": {
    "tags": []
   },
   "outputs": [
    {
     "data": {
      "text/html": [
       "<div>\n",
       "<style scoped>\n",
       "    .dataframe tbody tr th:only-of-type {\n",
       "        vertical-align: middle;\n",
       "    }\n",
       "\n",
       "    .dataframe tbody tr th {\n",
       "        vertical-align: top;\n",
       "    }\n",
       "\n",
       "    .dataframe thead th {\n",
       "        text-align: right;\n",
       "    }\n",
       "</style>\n",
       "<table border=\"1\" class=\"dataframe\">\n",
       "  <thead>\n",
       "    <tr style=\"text-align: right;\">\n",
       "      <th></th>\n",
       "      <th>title</th>\n",
       "      <th>studio</th>\n",
       "      <th>domestic_gross</th>\n",
       "      <th>foreign_gross</th>\n",
       "      <th>year</th>\n",
       "    </tr>\n",
       "  </thead>\n",
       "  <tbody>\n",
       "    <tr>\n",
       "      <th>0</th>\n",
       "      <td>Toy Story 3</td>\n",
       "      <td>BV</td>\n",
       "      <td>415000000.0</td>\n",
       "      <td>652000000</td>\n",
       "      <td>2010</td>\n",
       "    </tr>\n",
       "    <tr>\n",
       "      <th>1</th>\n",
       "      <td>Alice in Wonderland (2010)</td>\n",
       "      <td>BV</td>\n",
       "      <td>334200000.0</td>\n",
       "      <td>691300000</td>\n",
       "      <td>2010</td>\n",
       "    </tr>\n",
       "    <tr>\n",
       "      <th>2</th>\n",
       "      <td>Harry Potter and the Deathly Hallows Part 1</td>\n",
       "      <td>WB</td>\n",
       "      <td>296000000.0</td>\n",
       "      <td>664300000</td>\n",
       "      <td>2010</td>\n",
       "    </tr>\n",
       "    <tr>\n",
       "      <th>3</th>\n",
       "      <td>Inception</td>\n",
       "      <td>WB</td>\n",
       "      <td>292600000.0</td>\n",
       "      <td>535700000</td>\n",
       "      <td>2010</td>\n",
       "    </tr>\n",
       "    <tr>\n",
       "      <th>4</th>\n",
       "      <td>Shrek Forever After</td>\n",
       "      <td>P/DW</td>\n",
       "      <td>238700000.0</td>\n",
       "      <td>513900000</td>\n",
       "      <td>2010</td>\n",
       "    </tr>\n",
       "  </tbody>\n",
       "</table>\n",
       "</div>"
      ],
      "text/plain": [
       "                                         title studio  domestic_gross  \\\n",
       "0                                  Toy Story 3     BV     415000000.0   \n",
       "1                   Alice in Wonderland (2010)     BV     334200000.0   \n",
       "2  Harry Potter and the Deathly Hallows Part 1     WB     296000000.0   \n",
       "3                                    Inception     WB     292600000.0   \n",
       "4                          Shrek Forever After   P/DW     238700000.0   \n",
       "\n",
       "  foreign_gross  year  \n",
       "0     652000000  2010  \n",
       "1     691300000  2010  \n",
       "2     664300000  2010  \n",
       "3     535700000  2010  \n",
       "4     513900000  2010  "
      ]
     },
     "execution_count": 46,
     "metadata": {},
     "output_type": "execute_result"
    }
   ],
   "source": [
    "box_mojo_df.head()"
   ]
  },
  {
   "cell_type": "code",
   "execution_count": 47,
   "metadata": {
    "tags": []
   },
   "outputs": [
    {
     "data": {
      "text/html": [
       "<div>\n",
       "<style scoped>\n",
       "    .dataframe tbody tr th:only-of-type {\n",
       "        vertical-align: middle;\n",
       "    }\n",
       "\n",
       "    .dataframe tbody tr th {\n",
       "        vertical-align: top;\n",
       "    }\n",
       "\n",
       "    .dataframe thead th {\n",
       "        text-align: right;\n",
       "    }\n",
       "</style>\n",
       "<table border=\"1\" class=\"dataframe\">\n",
       "  <thead>\n",
       "    <tr style=\"text-align: right;\">\n",
       "      <th></th>\n",
       "      <th>id</th>\n",
       "      <th>release_date</th>\n",
       "      <th>movie</th>\n",
       "      <th>production_budget</th>\n",
       "      <th>domestic_gross</th>\n",
       "      <th>worldwide_gross</th>\n",
       "    </tr>\n",
       "  </thead>\n",
       "  <tbody>\n",
       "    <tr>\n",
       "      <th>0</th>\n",
       "      <td>1</td>\n",
       "      <td>Dec 18, 2009</td>\n",
       "      <td>Avatar</td>\n",
       "      <td>$425,000,000</td>\n",
       "      <td>$760,507,625</td>\n",
       "      <td>$2,776,345,279</td>\n",
       "    </tr>\n",
       "    <tr>\n",
       "      <th>1</th>\n",
       "      <td>2</td>\n",
       "      <td>May 20, 2011</td>\n",
       "      <td>Pirates of the Caribbean: On Stranger Tides</td>\n",
       "      <td>$410,600,000</td>\n",
       "      <td>$241,063,875</td>\n",
       "      <td>$1,045,663,875</td>\n",
       "    </tr>\n",
       "    <tr>\n",
       "      <th>2</th>\n",
       "      <td>3</td>\n",
       "      <td>Jun 7, 2019</td>\n",
       "      <td>Dark Phoenix</td>\n",
       "      <td>$350,000,000</td>\n",
       "      <td>$42,762,350</td>\n",
       "      <td>$149,762,350</td>\n",
       "    </tr>\n",
       "    <tr>\n",
       "      <th>3</th>\n",
       "      <td>4</td>\n",
       "      <td>May 1, 2015</td>\n",
       "      <td>Avengers: Age of Ultron</td>\n",
       "      <td>$330,600,000</td>\n",
       "      <td>$459,005,868</td>\n",
       "      <td>$1,403,013,963</td>\n",
       "    </tr>\n",
       "    <tr>\n",
       "      <th>4</th>\n",
       "      <td>5</td>\n",
       "      <td>Dec 15, 2017</td>\n",
       "      <td>Star Wars Ep. VIII: The Last Jedi</td>\n",
       "      <td>$317,000,000</td>\n",
       "      <td>$620,181,382</td>\n",
       "      <td>$1,316,721,747</td>\n",
       "    </tr>\n",
       "  </tbody>\n",
       "</table>\n",
       "</div>"
      ],
      "text/plain": [
       "   id  release_date                                        movie  \\\n",
       "0   1  Dec 18, 2009                                       Avatar   \n",
       "1   2  May 20, 2011  Pirates of the Caribbean: On Stranger Tides   \n",
       "2   3   Jun 7, 2019                                 Dark Phoenix   \n",
       "3   4   May 1, 2015                      Avengers: Age of Ultron   \n",
       "4   5  Dec 15, 2017            Star Wars Ep. VIII: The Last Jedi   \n",
       "\n",
       "  production_budget domestic_gross worldwide_gross  \n",
       "0      $425,000,000   $760,507,625  $2,776,345,279  \n",
       "1      $410,600,000   $241,063,875  $1,045,663,875  \n",
       "2      $350,000,000    $42,762,350    $149,762,350  \n",
       "3      $330,600,000   $459,005,868  $1,403,013,963  \n",
       "4      $317,000,000   $620,181,382  $1,316,721,747  "
      ]
     },
     "execution_count": 47,
     "metadata": {},
     "output_type": "execute_result"
    }
   ],
   "source": [
    "the_numbers_df.head()"
   ]
  },
  {
   "cell_type": "code",
   "execution_count": 48,
   "metadata": {
    "tags": []
   },
   "outputs": [
    {
     "name": "stdout",
     "output_type": "stream",
     "text": [
      "<class 'pandas.core.frame.DataFrame'>\n",
      "RangeIndex: 5782 entries, 0 to 5781\n",
      "Data columns (total 6 columns):\n",
      " #   Column             Non-Null Count  Dtype \n",
      "---  ------             --------------  ----- \n",
      " 0   id                 5782 non-null   int64 \n",
      " 1   release_date       5782 non-null   object\n",
      " 2   movie              5782 non-null   object\n",
      " 3   production_budget  5782 non-null   object\n",
      " 4   domestic_gross     5782 non-null   object\n",
      " 5   worldwide_gross    5782 non-null   object\n",
      "dtypes: int64(1), object(5)\n",
      "memory usage: 271.2+ KB\n"
     ]
    }
   ],
   "source": [
    "the_numbers_df.info()"
   ]
  },
  {
   "cell_type": "code",
   "execution_count": 49,
   "metadata": {
    "tags": []
   },
   "outputs": [
    {
     "name": "stdout",
     "output_type": "stream",
     "text": [
      "<class 'pandas.core.frame.DataFrame'>\n",
      "RangeIndex: 3387 entries, 0 to 3386\n",
      "Data columns (total 5 columns):\n",
      " #   Column          Non-Null Count  Dtype  \n",
      "---  ------          --------------  -----  \n",
      " 0   title           3387 non-null   object \n",
      " 1   studio          3382 non-null   object \n",
      " 2   domestic_gross  3359 non-null   float64\n",
      " 3   foreign_gross   2037 non-null   object \n",
      " 4   year            3387 non-null   int64  \n",
      "dtypes: float64(1), int64(1), object(3)\n",
      "memory usage: 132.4+ KB\n"
     ]
    }
   ],
   "source": [
    "box_mojo_df.info()"
   ]
  },
  {
   "cell_type": "markdown",
   "metadata": {},
   "source": [
    "# Data Preparation"
   ]
  },
  {
   "cell_type": "markdown",
   "metadata": {},
   "source": [
    "## Drop null values and create new columns\n",
    "\n",
    "The foreign gross from the box_mojo dataset is missing over 1000 values. To mitigate this we'll drop the column and use the_numbers_df dataset to create a column with just the foreign gross as worldwide gross is a sum of foreign and domestic as implied in thier website glossary (https://www.the-numbers.com/glossary)."
   ]
  },
  {
   "cell_type": "code",
   "execution_count": 52,
   "metadata": {
    "tags": []
   },
   "outputs": [
    {
     "data": {
      "text/plain": [
       "title                0\n",
       "studio               5\n",
       "domestic_gross      28\n",
       "foreign_gross     1350\n",
       "year                 0\n",
       "dtype: int64"
      ]
     },
     "execution_count": 52,
     "metadata": {},
     "output_type": "execute_result"
    }
   ],
   "source": [
    "box_mojo_df.isnull().sum()"
   ]
  },
  {
   "cell_type": "code",
   "execution_count": 53,
   "metadata": {
    "tags": []
   },
   "outputs": [],
   "source": [
    "box_mojo_df = box_mojo_df.drop('foreign_gross', axis=1)"
   ]
  },
  {
   "cell_type": "code",
   "execution_count": 54,
   "metadata": {
    "tags": []
   },
   "outputs": [],
   "source": [
    "# Remove the dollar sign,$ and the commas ',' from the columns and turn them into numeric values\n",
    "\n",
    "the_numbers_df['production_budget'] = pd.to_numeric(the_numbers_df['production_budget'].replace({'\\$': '', ',': ''}, regex=True))\n",
    "the_numbers_df['domestic_gross'] = pd.to_numeric(the_numbers_df['domestic_gross'].replace({'\\$': '', ',': ''}, regex=True))\n",
    "the_numbers_df['worldwide_gross'] = pd.to_numeric(the_numbers_df['worldwide_gross'].replace({'\\$': '', ',': ''}, regex=True))\n"
   ]
  },
  {
   "cell_type": "code",
   "execution_count": 55,
   "metadata": {
    "tags": []
   },
   "outputs": [],
   "source": [
    "the_numbers_df['foreign_gross'] = the_numbers_df['worldwide_gross'] - the_numbers_df['domestic_gross']"
   ]
  },
  {
   "cell_type": "code",
   "execution_count": 56,
   "metadata": {
    "tags": []
   },
   "outputs": [
    {
     "name": "stdout",
     "output_type": "stream",
     "text": [
      "<class 'pandas.core.frame.DataFrame'>\n",
      "Index: 5782 entries, 0 to 2\n",
      "Data columns (total 9 columns):\n",
      " #   Column             Non-Null Count  Dtype         \n",
      "---  ------             --------------  -----         \n",
      " 0   id                 5782 non-null   int64         \n",
      " 1   release_date       5782 non-null   datetime64[ns]\n",
      " 2   movie              5782 non-null   object        \n",
      " 3   production_budget  5782 non-null   int64         \n",
      " 4   domestic_gross     5782 non-null   int64         \n",
      " 5   worldwide_gross    5782 non-null   int64         \n",
      " 6   foreign_gross      5782 non-null   int64         \n",
      " 7   year               5782 non-null   int32         \n",
      " 8   profit             5782 non-null   int64         \n",
      "dtypes: datetime64[ns](1), int32(1), int64(6), object(1)\n",
      "memory usage: 429.1+ KB\n"
     ]
    }
   ],
   "source": [
    "# Convert release_date column into a datetime object and create a year column and a profit column\n",
    "the_numbers_df['release_date'] = pd.to_datetime(the_numbers_df['release_date'], format='%b %d, %Y')\n",
    "the_numbers_df['year'] = the_numbers_df['release_date'].dt.year\n",
    "the_numbers_df.loc[:, 'profit'] = the_numbers_df['worldwide_gross'] - the_numbers_df['production_budget']\n",
    "the_numbers_df = the_numbers_df.sort_values(by='profit', ascending=False)\n",
    "the_numbers_df.info()"
   ]
  },
  {
   "cell_type": "code",
   "execution_count": 57,
   "metadata": {
    "tags": []
   },
   "outputs": [
    {
     "name": "stdout",
     "output_type": "stream",
     "text": [
      "<class 'pandas.core.frame.DataFrame'>\n",
      "RangeIndex: 3387 entries, 0 to 3386\n",
      "Data columns (total 4 columns):\n",
      " #   Column          Non-Null Count  Dtype  \n",
      "---  ------          --------------  -----  \n",
      " 0   title           3387 non-null   object \n",
      " 1   studio          3382 non-null   object \n",
      " 2   domestic_gross  3359 non-null   float64\n",
      " 3   year            3387 non-null   int64  \n",
      "dtypes: float64(1), int64(1), object(2)\n",
      "memory usage: 106.0+ KB\n"
     ]
    }
   ],
   "source": [
    "# Check for Duplicates and Drop them\n",
    "the_numbers_df = the_numbers_df.drop_duplicates(subset=['movie'], keep='last')\n",
    "duplicates = box_mojo_df[box_mojo_df.duplicated(keep=False)]\n",
    "box_mojo_df.dropna()\n",
    "box_mojo_df.info()"
   ]
  },
  {
   "cell_type": "code",
   "execution_count": 58,
   "metadata": {
    "tags": []
   },
   "outputs": [
    {
     "name": "stdout",
     "output_type": "stream",
     "text": [
      "<class 'pandas.core.frame.DataFrame'>\n",
      "Index: 5698 entries, 0 to 2\n",
      "Data columns (total 9 columns):\n",
      " #   Column             Non-Null Count  Dtype         \n",
      "---  ------             --------------  -----         \n",
      " 0   id                 5698 non-null   int64         \n",
      " 1   release_date       5698 non-null   datetime64[ns]\n",
      " 2   movie              5698 non-null   object        \n",
      " 3   production_budget  5698 non-null   int64         \n",
      " 4   domestic_gross     5698 non-null   int64         \n",
      " 5   worldwide_gross    5698 non-null   int64         \n",
      " 6   foreign_gross      5698 non-null   int64         \n",
      " 7   year               5698 non-null   int32         \n",
      " 8   profit             5698 non-null   int64         \n",
      "dtypes: datetime64[ns](1), int32(1), int64(6), object(1)\n",
      "memory usage: 422.9+ KB\n"
     ]
    }
   ],
   "source": [
    "the_numbers_df.info()"
   ]
  },
  {
   "cell_type": "markdown",
   "metadata": {},
   "source": [
    "## Use the imdb Database to Create a Dataframe\n",
    "\n",
    "I'll use the im.db database to create a dataframe with genre, director, movie title, region, averagerating and number of votes."
   ]
  },
  {
   "cell_type": "code",
   "execution_count": 60,
   "metadata": {
    "tags": []
   },
   "outputs": [
    {
     "data": {
      "text/html": [
       "<div>\n",
       "<style scoped>\n",
       "    .dataframe tbody tr th:only-of-type {\n",
       "        vertical-align: middle;\n",
       "    }\n",
       "\n",
       "    .dataframe tbody tr th {\n",
       "        vertical-align: top;\n",
       "    }\n",
       "\n",
       "    .dataframe thead th {\n",
       "        text-align: right;\n",
       "    }\n",
       "</style>\n",
       "<table border=\"1\" class=\"dataframe\">\n",
       "  <thead>\n",
       "    <tr style=\"text-align: right;\">\n",
       "      <th></th>\n",
       "      <th>primary_title</th>\n",
       "      <th>genres</th>\n",
       "      <th>primary_name</th>\n",
       "      <th>region</th>\n",
       "      <th>averagerating</th>\n",
       "      <th>numvotes</th>\n",
       "    </tr>\n",
       "  </thead>\n",
       "  <tbody>\n",
       "    <tr>\n",
       "      <th>0</th>\n",
       "      <td>Paano na kaya</td>\n",
       "      <td>Drama,Romance</td>\n",
       "      <td>Ruel S. Bayani</td>\n",
       "      <td>PH</td>\n",
       "      <td>6.4</td>\n",
       "      <td>77</td>\n",
       "    </tr>\n",
       "    <tr>\n",
       "      <th>1</th>\n",
       "      <td>Paano na kaya</td>\n",
       "      <td>Drama,Romance</td>\n",
       "      <td>Ruel S. Bayani</td>\n",
       "      <td>PH</td>\n",
       "      <td>6.4</td>\n",
       "      <td>77</td>\n",
       "    </tr>\n",
       "    <tr>\n",
       "      <th>2</th>\n",
       "      <td>Paano na kaya</td>\n",
       "      <td>Drama,Romance</td>\n",
       "      <td>Ruel S. Bayani</td>\n",
       "      <td>PH</td>\n",
       "      <td>6.4</td>\n",
       "      <td>77</td>\n",
       "    </tr>\n",
       "    <tr>\n",
       "      <th>3</th>\n",
       "      <td>Paano na kaya</td>\n",
       "      <td>Drama,Romance</td>\n",
       "      <td>Ruel S. Bayani</td>\n",
       "      <td>PH</td>\n",
       "      <td>6.4</td>\n",
       "      <td>77</td>\n",
       "    </tr>\n",
       "    <tr>\n",
       "      <th>4</th>\n",
       "      <td>No Other Woman</td>\n",
       "      <td>Drama,Romance,Thriller</td>\n",
       "      <td>Ruel S. Bayani</td>\n",
       "      <td>PH</td>\n",
       "      <td>6.4</td>\n",
       "      <td>256</td>\n",
       "    </tr>\n",
       "    <tr>\n",
       "      <th>...</th>\n",
       "      <td>...</td>\n",
       "      <td>...</td>\n",
       "      <td>...</td>\n",
       "      <td>...</td>\n",
       "      <td>...</td>\n",
       "      <td>...</td>\n",
       "    </tr>\n",
       "    <tr>\n",
       "      <th>663464</th>\n",
       "      <td>Late Life: The Chien-Ming Wang Story</td>\n",
       "      <td>Documentary,Sport</td>\n",
       "      <td>Frank W Chen</td>\n",
       "      <td>TW</td>\n",
       "      <td>5.8</td>\n",
       "      <td>281</td>\n",
       "    </tr>\n",
       "    <tr>\n",
       "      <th>663465</th>\n",
       "      <td>Late Life: The Chien-Ming Wang Story</td>\n",
       "      <td>Documentary,Sport</td>\n",
       "      <td>Frank W Chen</td>\n",
       "      <td>US</td>\n",
       "      <td>5.8</td>\n",
       "      <td>281</td>\n",
       "    </tr>\n",
       "    <tr>\n",
       "      <th>663466</th>\n",
       "      <td>Polskie gówno</td>\n",
       "      <td>Comedy,Musical</td>\n",
       "      <td>Grzegorz Jankowski</td>\n",
       "      <td>None</td>\n",
       "      <td>5.2</td>\n",
       "      <td>215</td>\n",
       "    </tr>\n",
       "    <tr>\n",
       "      <th>663467</th>\n",
       "      <td>Polskie gówno</td>\n",
       "      <td>Comedy,Musical</td>\n",
       "      <td>Grzegorz Jankowski</td>\n",
       "      <td>BG</td>\n",
       "      <td>5.2</td>\n",
       "      <td>215</td>\n",
       "    </tr>\n",
       "    <tr>\n",
       "      <th>663468</th>\n",
       "      <td>Polskie gówno</td>\n",
       "      <td>Comedy,Musical</td>\n",
       "      <td>Grzegorz Jankowski</td>\n",
       "      <td>PL</td>\n",
       "      <td>5.2</td>\n",
       "      <td>215</td>\n",
       "    </tr>\n",
       "  </tbody>\n",
       "</table>\n",
       "<p>663469 rows × 6 columns</p>\n",
       "</div>"
      ],
      "text/plain": [
       "                               primary_title                  genres  \\\n",
       "0                              Paano na kaya           Drama,Romance   \n",
       "1                              Paano na kaya           Drama,Romance   \n",
       "2                              Paano na kaya           Drama,Romance   \n",
       "3                              Paano na kaya           Drama,Romance   \n",
       "4                             No Other Woman  Drama,Romance,Thriller   \n",
       "...                                      ...                     ...   \n",
       "663464  Late Life: The Chien-Ming Wang Story       Documentary,Sport   \n",
       "663465  Late Life: The Chien-Ming Wang Story       Documentary,Sport   \n",
       "663466                         Polskie gówno          Comedy,Musical   \n",
       "663467                         Polskie gówno          Comedy,Musical   \n",
       "663468                         Polskie gówno          Comedy,Musical   \n",
       "\n",
       "              primary_name region  averagerating  numvotes  \n",
       "0           Ruel S. Bayani     PH            6.4        77  \n",
       "1           Ruel S. Bayani     PH            6.4        77  \n",
       "2           Ruel S. Bayani     PH            6.4        77  \n",
       "3           Ruel S. Bayani     PH            6.4        77  \n",
       "4           Ruel S. Bayani     PH            6.4       256  \n",
       "...                    ...    ...            ...       ...  \n",
       "663464        Frank W Chen     TW            5.8       281  \n",
       "663465        Frank W Chen     US            5.8       281  \n",
       "663466  Grzegorz Jankowski   None            5.2       215  \n",
       "663467  Grzegorz Jankowski     BG            5.2       215  \n",
       "663468  Grzegorz Jankowski     PL            5.2       215  \n",
       "\n",
       "[663469 rows x 6 columns]"
      ]
     },
     "execution_count": 60,
     "metadata": {},
     "output_type": "execute_result"
    }
   ],
   "source": [
    "imdb_query = \"\"\"\n",
    "SELECT\n",
    "    mb.primary_title,\n",
    "    mb.genres,\n",
    "    p.primary_name,\n",
    "    ma.region,\n",
    "    mr.averagerating,\n",
    "    mr.numvotes\n",
    "FROM movie_basics AS mb\n",
    "JOIN directors AS d\n",
    "    ON mb.movie_id = d.movie_id\n",
    "JOIN persons AS p\n",
    "    ON d.person_id = p.person_id\n",
    "JOIN movie_akas AS ma\n",
    "    ON mb.movie_id = ma.movie_id\n",
    "JOIN movie_ratings as mr\n",
    "    ON mr.movie_id = mb.movie_id\n",
    "WHERE p.primary_profession LIKE '%director%';\n",
    "\"\"\"\n",
    "imdb_df = pd.read_sql(imdb_query, imdb_conn)\n",
    "imdb_conn.close()\n",
    "imdb_df"
   ]
  },
  {
   "cell_type": "code",
   "execution_count": 61,
   "metadata": {
    "tags": []
   },
   "outputs": [
    {
     "data": {
      "text/html": [
       "<div>\n",
       "<style scoped>\n",
       "    .dataframe tbody tr th:only-of-type {\n",
       "        vertical-align: middle;\n",
       "    }\n",
       "\n",
       "    .dataframe tbody tr th {\n",
       "        vertical-align: top;\n",
       "    }\n",
       "\n",
       "    .dataframe thead th {\n",
       "        text-align: right;\n",
       "    }\n",
       "</style>\n",
       "<table border=\"1\" class=\"dataframe\">\n",
       "  <thead>\n",
       "    <tr style=\"text-align: right;\">\n",
       "      <th></th>\n",
       "      <th>primary_title</th>\n",
       "      <th>genres</th>\n",
       "      <th>primary_name</th>\n",
       "      <th>region</th>\n",
       "      <th>averagerating</th>\n",
       "      <th>numvotes</th>\n",
       "    </tr>\n",
       "  </thead>\n",
       "  <tbody>\n",
       "    <tr>\n",
       "      <th>3</th>\n",
       "      <td>Paano na kaya</td>\n",
       "      <td>Drama,Romance</td>\n",
       "      <td>Ruel S. Bayani</td>\n",
       "      <td>PH</td>\n",
       "      <td>6.4</td>\n",
       "      <td>77</td>\n",
       "    </tr>\n",
       "    <tr>\n",
       "      <th>6</th>\n",
       "      <td>No Other Woman</td>\n",
       "      <td>Drama,Romance,Thriller</td>\n",
       "      <td>Ruel S. Bayani</td>\n",
       "      <td>PH</td>\n",
       "      <td>6.4</td>\n",
       "      <td>256</td>\n",
       "    </tr>\n",
       "    <tr>\n",
       "      <th>9</th>\n",
       "      <td>One More Try</td>\n",
       "      <td>Drama</td>\n",
       "      <td>Ruel S. Bayani</td>\n",
       "      <td>PH</td>\n",
       "      <td>5.8</td>\n",
       "      <td>158</td>\n",
       "    </tr>\n",
       "    <tr>\n",
       "      <th>10</th>\n",
       "      <td>Not Such a Bad Guy: Conversations with Dabney ...</td>\n",
       "      <td>Documentary</td>\n",
       "      <td>Bryan Beasley</td>\n",
       "      <td>US</td>\n",
       "      <td>8.9</td>\n",
       "      <td>12</td>\n",
       "    </tr>\n",
       "    <tr>\n",
       "      <th>17</th>\n",
       "      <td>The Cursed</td>\n",
       "      <td>Horror,Romance,Thriller</td>\n",
       "      <td>Joel Bender</td>\n",
       "      <td>US</td>\n",
       "      <td>5.9</td>\n",
       "      <td>1878</td>\n",
       "    </tr>\n",
       "    <tr>\n",
       "      <th>...</th>\n",
       "      <td>...</td>\n",
       "      <td>...</td>\n",
       "      <td>...</td>\n",
       "      <td>...</td>\n",
       "      <td>...</td>\n",
       "      <td>...</td>\n",
       "    </tr>\n",
       "    <tr>\n",
       "      <th>663453</th>\n",
       "      <td>Porisadaya</td>\n",
       "      <td>Action,Crime,Drama</td>\n",
       "      <td>Sirithunga Perera</td>\n",
       "      <td>LK</td>\n",
       "      <td>7.7</td>\n",
       "      <td>6</td>\n",
       "    </tr>\n",
       "    <tr>\n",
       "      <th>663456</th>\n",
       "      <td>The Jack King Affair</td>\n",
       "      <td>Documentary</td>\n",
       "      <td>Nicolas Cotto</td>\n",
       "      <td>PL</td>\n",
       "      <td>6.4</td>\n",
       "      <td>67</td>\n",
       "    </tr>\n",
       "    <tr>\n",
       "      <th>663459</th>\n",
       "      <td>Shaghaltna Arjantenia</td>\n",
       "      <td>Comedy</td>\n",
       "      <td>Hamed Saleh</td>\n",
       "      <td>XWW</td>\n",
       "      <td>6.5</td>\n",
       "      <td>26</td>\n",
       "    </tr>\n",
       "    <tr>\n",
       "      <th>663465</th>\n",
       "      <td>Late Life: The Chien-Ming Wang Story</td>\n",
       "      <td>Documentary,Sport</td>\n",
       "      <td>Frank W Chen</td>\n",
       "      <td>US</td>\n",
       "      <td>5.8</td>\n",
       "      <td>281</td>\n",
       "    </tr>\n",
       "    <tr>\n",
       "      <th>663468</th>\n",
       "      <td>Polskie gówno</td>\n",
       "      <td>Comedy,Musical</td>\n",
       "      <td>Grzegorz Jankowski</td>\n",
       "      <td>PL</td>\n",
       "      <td>5.2</td>\n",
       "      <td>215</td>\n",
       "    </tr>\n",
       "  </tbody>\n",
       "</table>\n",
       "<p>61478 rows × 6 columns</p>\n",
       "</div>"
      ],
      "text/plain": [
       "                                            primary_title  \\\n",
       "3                                           Paano na kaya   \n",
       "6                                          No Other Woman   \n",
       "9                                            One More Try   \n",
       "10      Not Such a Bad Guy: Conversations with Dabney ...   \n",
       "17                                             The Cursed   \n",
       "...                                                   ...   \n",
       "663453                                         Porisadaya   \n",
       "663456                               The Jack King Affair   \n",
       "663459                              Shaghaltna Arjantenia   \n",
       "663465               Late Life: The Chien-Ming Wang Story   \n",
       "663468                                      Polskie gówno   \n",
       "\n",
       "                         genres        primary_name region  averagerating  \\\n",
       "3                 Drama,Romance      Ruel S. Bayani     PH            6.4   \n",
       "6        Drama,Romance,Thriller      Ruel S. Bayani     PH            6.4   \n",
       "9                         Drama      Ruel S. Bayani     PH            5.8   \n",
       "10                  Documentary       Bryan Beasley     US            8.9   \n",
       "17      Horror,Romance,Thriller         Joel Bender     US            5.9   \n",
       "...                         ...                 ...    ...            ...   \n",
       "663453       Action,Crime,Drama   Sirithunga Perera     LK            7.7   \n",
       "663456              Documentary       Nicolas Cotto     PL            6.4   \n",
       "663459                   Comedy         Hamed Saleh    XWW            6.5   \n",
       "663465        Documentary,Sport        Frank W Chen     US            5.8   \n",
       "663468           Comedy,Musical  Grzegorz Jankowski     PL            5.2   \n",
       "\n",
       "        numvotes  \n",
       "3             77  \n",
       "6            256  \n",
       "9            158  \n",
       "10            12  \n",
       "17          1878  \n",
       "...          ...  \n",
       "663453         6  \n",
       "663456        67  \n",
       "663459        26  \n",
       "663465       281  \n",
       "663468       215  \n",
       "\n",
       "[61478 rows x 6 columns]"
      ]
     },
     "execution_count": 61,
     "metadata": {},
     "output_type": "execute_result"
    }
   ],
   "source": [
    "imdb_df = imdb_df.drop_duplicates(subset=['primary_title'], keep='last')\n",
    "imdb_df"
   ]
  },
  {
   "cell_type": "code",
   "execution_count": 62,
   "metadata": {
    "tags": []
   },
   "outputs": [
    {
     "name": "stdout",
     "output_type": "stream",
     "text": [
      "<class 'pandas.core.frame.DataFrame'>\n",
      "Index: 61478 entries, 3 to 663468\n",
      "Data columns (total 6 columns):\n",
      " #   Column         Non-Null Count  Dtype  \n",
      "---  ------         --------------  -----  \n",
      " 0   primary_title  61478 non-null  object \n",
      " 1   genres         60932 non-null  object \n",
      " 2   primary_name   61478 non-null  object \n",
      " 3   region         61457 non-null  object \n",
      " 4   averagerating  61478 non-null  float64\n",
      " 5   numvotes       61478 non-null  int64  \n",
      "dtypes: float64(1), int64(1), object(4)\n",
      "memory usage: 3.3+ MB\n"
     ]
    },
    {
     "data": {
      "text/html": [
       "<div>\n",
       "<style scoped>\n",
       "    .dataframe tbody tr th:only-of-type {\n",
       "        vertical-align: middle;\n",
       "    }\n",
       "\n",
       "    .dataframe tbody tr th {\n",
       "        vertical-align: top;\n",
       "    }\n",
       "\n",
       "    .dataframe thead th {\n",
       "        text-align: right;\n",
       "    }\n",
       "</style>\n",
       "<table border=\"1\" class=\"dataframe\">\n",
       "  <thead>\n",
       "    <tr style=\"text-align: right;\">\n",
       "      <th></th>\n",
       "      <th>primary_title</th>\n",
       "      <th>genres</th>\n",
       "      <th>primary_name</th>\n",
       "      <th>region</th>\n",
       "      <th>averagerating</th>\n",
       "      <th>numvotes</th>\n",
       "    </tr>\n",
       "  </thead>\n",
       "  <tbody>\n",
       "    <tr>\n",
       "      <th>3</th>\n",
       "      <td>Paano na kaya</td>\n",
       "      <td>Drama,Romance</td>\n",
       "      <td>Ruel S. Bayani</td>\n",
       "      <td>PH</td>\n",
       "      <td>6.4</td>\n",
       "      <td>77</td>\n",
       "    </tr>\n",
       "    <tr>\n",
       "      <th>6</th>\n",
       "      <td>No Other Woman</td>\n",
       "      <td>Drama,Romance,Thriller</td>\n",
       "      <td>Ruel S. Bayani</td>\n",
       "      <td>PH</td>\n",
       "      <td>6.4</td>\n",
       "      <td>256</td>\n",
       "    </tr>\n",
       "    <tr>\n",
       "      <th>9</th>\n",
       "      <td>One More Try</td>\n",
       "      <td>Drama</td>\n",
       "      <td>Ruel S. Bayani</td>\n",
       "      <td>PH</td>\n",
       "      <td>5.8</td>\n",
       "      <td>158</td>\n",
       "    </tr>\n",
       "    <tr>\n",
       "      <th>10</th>\n",
       "      <td>Not Such a Bad Guy: Conversations with Dabney ...</td>\n",
       "      <td>Documentary</td>\n",
       "      <td>Bryan Beasley</td>\n",
       "      <td>US</td>\n",
       "      <td>8.9</td>\n",
       "      <td>12</td>\n",
       "    </tr>\n",
       "    <tr>\n",
       "      <th>17</th>\n",
       "      <td>The Cursed</td>\n",
       "      <td>Horror,Romance,Thriller</td>\n",
       "      <td>Joel Bender</td>\n",
       "      <td>US</td>\n",
       "      <td>5.9</td>\n",
       "      <td>1878</td>\n",
       "    </tr>\n",
       "    <tr>\n",
       "      <th>...</th>\n",
       "      <td>...</td>\n",
       "      <td>...</td>\n",
       "      <td>...</td>\n",
       "      <td>...</td>\n",
       "      <td>...</td>\n",
       "      <td>...</td>\n",
       "    </tr>\n",
       "    <tr>\n",
       "      <th>663453</th>\n",
       "      <td>Porisadaya</td>\n",
       "      <td>Action,Crime,Drama</td>\n",
       "      <td>Sirithunga Perera</td>\n",
       "      <td>LK</td>\n",
       "      <td>7.7</td>\n",
       "      <td>6</td>\n",
       "    </tr>\n",
       "    <tr>\n",
       "      <th>663456</th>\n",
       "      <td>The Jack King Affair</td>\n",
       "      <td>Documentary</td>\n",
       "      <td>Nicolas Cotto</td>\n",
       "      <td>PL</td>\n",
       "      <td>6.4</td>\n",
       "      <td>67</td>\n",
       "    </tr>\n",
       "    <tr>\n",
       "      <th>663459</th>\n",
       "      <td>Shaghaltna Arjantenia</td>\n",
       "      <td>Comedy</td>\n",
       "      <td>Hamed Saleh</td>\n",
       "      <td>XWW</td>\n",
       "      <td>6.5</td>\n",
       "      <td>26</td>\n",
       "    </tr>\n",
       "    <tr>\n",
       "      <th>663465</th>\n",
       "      <td>Late Life: The Chien-Ming Wang Story</td>\n",
       "      <td>Documentary,Sport</td>\n",
       "      <td>Frank W Chen</td>\n",
       "      <td>US</td>\n",
       "      <td>5.8</td>\n",
       "      <td>281</td>\n",
       "    </tr>\n",
       "    <tr>\n",
       "      <th>663468</th>\n",
       "      <td>Polskie gówno</td>\n",
       "      <td>Comedy,Musical</td>\n",
       "      <td>Grzegorz Jankowski</td>\n",
       "      <td>PL</td>\n",
       "      <td>5.2</td>\n",
       "      <td>215</td>\n",
       "    </tr>\n",
       "  </tbody>\n",
       "</table>\n",
       "<p>60912 rows × 6 columns</p>\n",
       "</div>"
      ],
      "text/plain": [
       "                                            primary_title  \\\n",
       "3                                           Paano na kaya   \n",
       "6                                          No Other Woman   \n",
       "9                                            One More Try   \n",
       "10      Not Such a Bad Guy: Conversations with Dabney ...   \n",
       "17                                             The Cursed   \n",
       "...                                                   ...   \n",
       "663453                                         Porisadaya   \n",
       "663456                               The Jack King Affair   \n",
       "663459                              Shaghaltna Arjantenia   \n",
       "663465               Late Life: The Chien-Ming Wang Story   \n",
       "663468                                      Polskie gówno   \n",
       "\n",
       "                         genres        primary_name region  averagerating  \\\n",
       "3                 Drama,Romance      Ruel S. Bayani     PH            6.4   \n",
       "6        Drama,Romance,Thriller      Ruel S. Bayani     PH            6.4   \n",
       "9                         Drama      Ruel S. Bayani     PH            5.8   \n",
       "10                  Documentary       Bryan Beasley     US            8.9   \n",
       "17      Horror,Romance,Thriller         Joel Bender     US            5.9   \n",
       "...                         ...                 ...    ...            ...   \n",
       "663453       Action,Crime,Drama   Sirithunga Perera     LK            7.7   \n",
       "663456              Documentary       Nicolas Cotto     PL            6.4   \n",
       "663459                   Comedy         Hamed Saleh    XWW            6.5   \n",
       "663465        Documentary,Sport        Frank W Chen     US            5.8   \n",
       "663468           Comedy,Musical  Grzegorz Jankowski     PL            5.2   \n",
       "\n",
       "        numvotes  \n",
       "3             77  \n",
       "6            256  \n",
       "9            158  \n",
       "10            12  \n",
       "17          1878  \n",
       "...          ...  \n",
       "663453         6  \n",
       "663456        67  \n",
       "663459        26  \n",
       "663465       281  \n",
       "663468       215  \n",
       "\n",
       "[60912 rows x 6 columns]"
      ]
     },
     "execution_count": 62,
     "metadata": {},
     "output_type": "execute_result"
    }
   ],
   "source": [
    "# Check for Null values and drop them\n",
    "imdb_df.info()\n",
    "imdb_df.dropna()"
   ]
  },
  {
   "cell_type": "code",
   "execution_count": 63,
   "metadata": {
    "tags": []
   },
   "outputs": [],
   "source": [
    "# Rename the movie title columns to movie_title which we'll use as the primary key\n",
    "imdb_df = imdb_df.rename(columns={'primary_title': 'movie_title'})\n",
    "the_numbers_df = the_numbers_df.rename(columns={'movie': 'movie_title'})\n",
    "box_mojo_df = box_mojo_df.rename(columns={'title': 'movie_title'})"
   ]
  },
  {
   "cell_type": "code",
   "execution_count": 64,
   "metadata": {
    "tags": []
   },
   "outputs": [
    {
     "name": "stdout",
     "output_type": "stream",
     "text": [
      "<class 'pandas.core.frame.DataFrame'>\n",
      "RangeIndex: 1238 entries, 0 to 1237\n",
      "Data columns (total 12 columns):\n",
      " #   Column             Non-Null Count  Dtype         \n",
      "---  ------             --------------  -----         \n",
      " 0   movie_title        1238 non-null   object        \n",
      " 1   studio             1237 non-null   object        \n",
      " 2   domestic_gross_x   1236 non-null   float64       \n",
      " 3   year_x             1238 non-null   int64         \n",
      " 4   id                 1238 non-null   int64         \n",
      " 5   release_date       1238 non-null   datetime64[ns]\n",
      " 6   production_budget  1238 non-null   int64         \n",
      " 7   domestic_gross_y   1238 non-null   int64         \n",
      " 8   worldwide_gross    1238 non-null   int64         \n",
      " 9   foreign_gross      1238 non-null   int64         \n",
      " 10  year_y             1238 non-null   int32         \n",
      " 11  profit             1238 non-null   int64         \n",
      "dtypes: datetime64[ns](1), float64(1), int32(1), int64(7), object(2)\n",
      "memory usage: 111.4+ KB\n"
     ]
    }
   ],
   "source": [
    "movie_data = pd.merge(box_mojo_df,\n",
    "                      the_numbers_df,\n",
    "                      on=['movie_title'],\n",
    "                      how='inner')\n",
    "movie_data.info()"
   ]
  },
  {
   "cell_type": "code",
   "execution_count": 65,
   "metadata": {
    "tags": []
   },
   "outputs": [
    {
     "name": "stdout",
     "output_type": "stream",
     "text": [
      "<class 'pandas.core.frame.DataFrame'>\n",
      "RangeIndex: 1077 entries, 0 to 1076\n",
      "Data columns (total 17 columns):\n",
      " #   Column             Non-Null Count  Dtype         \n",
      "---  ------             --------------  -----         \n",
      " 0   movie_title        1077 non-null   object        \n",
      " 1   studio             1077 non-null   object        \n",
      " 2   domestic_gross_x   1076 non-null   float64       \n",
      " 3   year_x             1077 non-null   int64         \n",
      " 4   id                 1077 non-null   int64         \n",
      " 5   release_date       1077 non-null   datetime64[ns]\n",
      " 6   production_budget  1077 non-null   int64         \n",
      " 7   domestic_gross_y   1077 non-null   int64         \n",
      " 8   worldwide_gross    1077 non-null   int64         \n",
      " 9   foreign_gross      1077 non-null   int64         \n",
      " 10  year_y             1077 non-null   int32         \n",
      " 11  profit             1077 non-null   int64         \n",
      " 12  genres             1073 non-null   object        \n",
      " 13  primary_name       1077 non-null   object        \n",
      " 14  region             1077 non-null   object        \n",
      " 15  averagerating      1077 non-null   float64       \n",
      " 16  numvotes           1077 non-null   int64         \n",
      "dtypes: datetime64[ns](1), float64(2), int32(1), int64(8), object(5)\n",
      "memory usage: 139.0+ KB\n"
     ]
    }
   ],
   "source": [
    "final_movie_df = pd.merge(movie_data,\n",
    "                      imdb_df,\n",
    "                      on=['movie_title'],\n",
    "                      how='inner')\n",
    "final_movie_df.info()"
   ]
  },
  {
   "cell_type": "code",
   "execution_count": 66,
   "metadata": {
    "tags": []
   },
   "outputs": [
    {
     "name": "stdout",
     "output_type": "stream",
     "text": [
      "<class 'pandas.core.frame.DataFrame'>\n",
      "RangeIndex: 1077 entries, 0 to 1076\n",
      "Data columns (total 10 columns):\n",
      " #   Column             Non-Null Count  Dtype  \n",
      "---  ------             --------------  -----  \n",
      " 0   movie_title        1077 non-null   object \n",
      " 1   studio             1077 non-null   object \n",
      " 2   production_budget  1077 non-null   int64  \n",
      " 3   year               1077 non-null   int32  \n",
      " 4   gross_profit       1077 non-null   int64  \n",
      " 5   genres             1073 non-null   object \n",
      " 6   director           1077 non-null   object \n",
      " 7   averagerating      1077 non-null   float64\n",
      " 8   release_month      1077 non-null   object \n",
      " 9   release_day        1077 non-null   object \n",
      "dtypes: float64(1), int32(1), int64(2), object(6)\n",
      "memory usage: 80.1+ KB\n"
     ]
    }
   ],
   "source": [
    "final_movie_df = final_movie_df.drop(columns=['domestic_gross_x', 'year_x'])\n",
    "final_movie_df = final_movie_df.rename(columns={'domestic_gross_y': 'domestic_gross'})\n",
    "final_movie_df = final_movie_df.rename(columns={'year_y': 'year'})\n",
    "final_movie_df = final_movie_df.rename(columns={'profit': 'gross_profit'})\n",
    "final_movie_df = final_movie_df.rename(columns={'primary_name': 'director'})\n",
    "final_movie_df['release_month'] = final_movie_df['release_date'].dt.strftime('%b')\n",
    "final_movie_df['release_day'] = final_movie_df['release_date'].dt.strftime('%d')\n",
    "final_movie_df = final_movie_df.drop(columns=['id', 'release_date', 'domestic_gross','worldwide_gross','foreign_gross','region','numvotes'])\n",
    "final_movie_df.info()"
   ]
  },
  {
   "cell_type": "markdown",
   "metadata": {
    "tags": []
   },
   "source": [
    "## Initial Exploratory Analysis"
   ]
  },
  {
   "cell_type": "markdown",
   "metadata": {},
   "source": [
    "### Highest Grossing Studios in The Last Ten Years\n",
    "In this initial analysis we will analyse the highest grossing studios by theatrical releases. I'll use the\n",
    "box_mojo_df dataframe."
   ]
  },
  {
   "cell_type": "markdown",
   "metadata": {},
   "source": [
    "### Statistical Analysis of the Varibales we'll use to determine success\n",
    "## Genre\n",
    "We can use probability mass function to measure the likelyhood a genre is profitable by using the final_movie_df. The number of outcomes is finite and the outcome is a set of values."
   ]
  },
  {
   "cell_type": "code",
   "execution_count": 110,
   "metadata": {
    "tags": []
   },
   "outputs": [
    {
     "data": {
      "text/plain": [
       "genres\n",
       "Drama                         52\n",
       "Adventure,Animation,Comedy    47\n",
       "Action,Adventure,Sci-Fi       39\n",
       "Comedy,Drama,Romance          38\n",
       "Comedy,Drama                  35\n",
       "                              ..\n",
       "Comedy,Drama,Sport             1\n",
       "Action,Family,Fantasy          1\n",
       "Comedy,Horror,Romance          1\n",
       "Drama,Mystery                  1\n",
       "Adventure,Drama                1\n",
       "Name: count, Length: 200, dtype: int64"
      ]
     },
     "execution_count": 110,
     "metadata": {},
     "output_type": "execute_result"
    }
   ],
   "source": [
    "genre_counts = final_movie_df['genres'].value_counts()\n",
    "genre_counts"
   ]
  },
  {
   "cell_type": "code",
   "execution_count": 108,
   "metadata": {
    "tags": []
   },
   "outputs": [
    {
     "data": {
      "image/png": "[encoded data removed]",
      "text/plain": [
       "<Figure size 1400x700 with 1 Axes>"
      ]
     },
     "metadata": {},
     "output_type": "display_data"
    }
   ],
   "source": [
    "genre_counts = genre_counts.head(10)\n",
    "pmf = genre_counts /10\n",
    "\n",
    "plt.figure(figsize=(14, 7))\n",
    "pmf.plot(kind='barh')\n",
    "plt.title('PMF of Genre Combinations')\n",
    "plt.ylabel('Genre Combinations')\n",
    "plt.xlabel('Probability')\n",
    "plt.xticks(rotation=90)\n",
    "plt.show()"
   ]
  },
  {
   "cell_type": "markdown",
   "metadata": {},
   "source": [
    "A profitable film has a high probability of 5.2 being a **Drama** film than any other genre."
   ]
  },
  {
   "cell_type": "code",
   "execution_count": 75,
   "metadata": {
    "tags": []
   },
   "outputs": [
    {
     "name": "stdout",
     "output_type": "stream",
     "text": [
      "K-S Statistic: 0.20441729216102475, P-Value: 1.2464718063894834e-33\n"
     ]
    }
   ],
   "source": [
    "# Use the Kolmogorov-Smirnov Test to check if final_movie_df represents the population data we just cleaned\n",
    "\n",
    "from scipy.stats import ks_2samp # import the stats module for K-S test\n",
    "\n",
    "statistic, p_value = ks_2samp(the_numbers_df['profit'], final_movie_df['gross_profit'])\n",
    "print(f\"K-S Statistic: {statistic}, P-Value: {p_value}\")"
   ]
  },
  {
   "cell_type": "code",
   "execution_count": 76,
   "metadata": {
    "tags": []
   },
   "outputs": [
    {
     "ename": "ValueError",
     "evalue": "setting an array element with a sequence. The requested array has an inhomogeneous shape after 1 dimensions. The detected shape was (2,) + inhomogeneous part.",
     "output_type": "error",
     "traceback": [
      "\u001b[1;31m---------------------------------------------------------------------------\u001b[0m",
      "\u001b[1;31mValueError\u001b[0m                                Traceback (most recent call last)",
      "Cell \u001b[1;32mIn[76], line 13\u001b[0m\n\u001b[0;32m     10\u001b[0m expected_freq \u001b[38;5;241m=\u001b[39m total_genres \u001b[38;5;241m*\u001b[39m (\u001b[38;5;28mlen\u001b[39m(final_movie_df) \u001b[38;5;241m/\u001b[39m \u001b[38;5;28mlen\u001b[39m(imdb_df))\n\u001b[0;32m     12\u001b[0m \u001b[38;5;66;03m# 3. Chi-Square Test of Goodness of Fit\u001b[39;00m\n\u001b[1;32m---> 13\u001b[0m chi2_stat, p_value, _, _ \u001b[38;5;241m=\u001b[39m chi2_contingency([observed_freq, expected_freq])\n\u001b[0;32m     15\u001b[0m \u001b[38;5;28mprint\u001b[39m(\u001b[38;5;124mf\u001b[39m\u001b[38;5;124m\"\u001b[39m\u001b[38;5;124mChi-Square Statistic: \u001b[39m\u001b[38;5;132;01m{\u001b[39;00mchi2_stat\u001b[38;5;132;01m}\u001b[39;00m\u001b[38;5;124m, P-Value: \u001b[39m\u001b[38;5;132;01m{\u001b[39;00mp_value\u001b[38;5;132;01m}\u001b[39;00m\u001b[38;5;124m\"\u001b[39m)\n",
      "File \u001b[1;32m~\\anaconda3\\Lib\\site-packages\\scipy\\stats\\contingency.py:329\u001b[0m, in \u001b[0;36mchi2_contingency\u001b[1;34m(observed, correction, lambda_)\u001b[0m\n\u001b[0;32m    144\u001b[0m \u001b[38;5;28;01mdef\u001b[39;00m \u001b[38;5;21mchi2_contingency\u001b[39m(observed, correction\u001b[38;5;241m=\u001b[39m\u001b[38;5;28;01mTrue\u001b[39;00m, lambda_\u001b[38;5;241m=\u001b[39m\u001b[38;5;28;01mNone\u001b[39;00m):\n\u001b[0;32m    145\u001b[0m \u001b[38;5;250m    \u001b[39m\u001b[38;5;124;03m\"\"\"Chi-square test of independence of variables in a contingency table.\u001b[39;00m\n\u001b[0;32m    146\u001b[0m \n\u001b[0;32m    147\u001b[0m \u001b[38;5;124;03m    This function computes the chi-square statistic and p-value for the\u001b[39;00m\n\u001b[1;32m   (...)\u001b[0m\n\u001b[0;32m    327\u001b[0m \u001b[38;5;124;03m    0.64417725029295503\u001b[39;00m\n\u001b[0;32m    328\u001b[0m \u001b[38;5;124;03m    \"\"\"\u001b[39;00m\n\u001b[1;32m--> 329\u001b[0m     observed \u001b[38;5;241m=\u001b[39m np\u001b[38;5;241m.\u001b[39masarray(observed)\n\u001b[0;32m    330\u001b[0m     \u001b[38;5;28;01mif\u001b[39;00m np\u001b[38;5;241m.\u001b[39many(observed \u001b[38;5;241m<\u001b[39m \u001b[38;5;241m0\u001b[39m):\n\u001b[0;32m    331\u001b[0m         \u001b[38;5;28;01mraise\u001b[39;00m \u001b[38;5;167;01mValueError\u001b[39;00m(\u001b[38;5;124m\"\u001b[39m\u001b[38;5;124mAll values in `observed` must be nonnegative.\u001b[39m\u001b[38;5;124m\"\u001b[39m)\n",
      "\u001b[1;31mValueError\u001b[0m: setting an array element with a sequence. The requested array has an inhomogeneous shape after 1 dimensions. The detected shape was (2,) + inhomogeneous part."
     ]
    }
   ],
   "source": [
    "from scipy.stats import chi2_contingency\n",
    "\n",
    "# Example data for demonstration\n",
    "\n",
    "# 1. Calculate observed frequencies in final_movie_df\n",
    "observed_freq = final_movie_df['genres'].value_counts()\n",
    "\n",
    "# 2. Calculate expected frequencies based on the_numbers_df proportions\n",
    "total_genres = imdb_df['genres'].value_counts()\n",
    "expected_freq = total_genres * (len(final_movie_df) / len(imdb_df))\n",
    "\n",
    "# 3. Chi-Square Test of Goodness of Fit\n",
    "chi2_stat, p_value, _, _ = chi2_contingency([observed_freq, expected_freq])\n",
    "\n",
    "print(f\"Chi-Square Statistic: {chi2_stat}, P-Value: {p_value}\")"
   ]
  },
  {
   "cell_type": "code",
   "execution_count": 73,
   "metadata": {
    "tags": []
   },
   "outputs": [
    {
     "data": {
      "image/png": "[encoded data removed]",
      "text/plain": [
       "<Figure size 1400x700 with 1 Axes>"
      ]
     },
     "metadata": {},
     "output_type": "display_data"
    }
   ],
   "source": [
    "\n",
    "# Calculate the standard deviation of the production budget per year\n",
    "std_dev_per_year = the_numbers_df.groupby('year')['production_budget'].std()\n",
    "\n",
    "# Plotting the standard deviation over time\n",
    "plt.figure(figsize=(14, 7))\n",
    "plt.plot(std_dev_per_year.index, std_dev_per_year.values, marker='o', linestyle='-', color='skyblue')\n",
    "plt.title('Standard Deviation of Production Budget Over Time')\n",
    "plt.xlabel('Year')\n",
    "plt.ylabel('Standard Deviation of Production Budget ($000)')\n",
    "plt.grid(True)\n",
    "plt.tight_layout()\n",
    "plt.show()"
   ]
  },
  {
   "cell_type": "markdown",
   "metadata": {},
   "source": [
    "## Use Statistical Test To Check The Significance Of Our Cleaned Data"
   ]
  },
  {
   "cell_type": "markdown",
   "metadata": {
    "tags": []
   },
   "source": [
    "## The Three Buisness Questions\n",
    "\n",
    "Returning to the three buisness questions we needed answered i.e\n",
    "\n",
    "1. What Genres Are Most Profitable?\n",
    "2. Does Release Date Influence Opening Weekend Box Office Success?\n",
    "3. Which the directors have the highest success rate?\n",
    "\n"
   ]
  },
  {
   "cell_type": "markdown",
   "metadata": {},
   "source": [
    "### What Genres Are Most Profitable? \n",
    "\n",
    "From the visualisation below we can see combination of either action or adventure or both genres have the highest gross profit. When elements of Drama, Comedy or science fiction are added to this combination it increases the chances of making greater margins. So if there were to be three combinations our film buisness should invest in it would be:\n",
    "- **Action, Drama, Adventure**\n",
    "- **Adventure, Sci-Fi, Action**\n",
    "- **Adventure, Comedy, Action**\n",
    "\n",
    "Documentary, Biography, History and Sport are not replicable since content itself may not be copyrighted (facts and historical events are in the public domain thus are not considered original video content in this context."
   ]
  },
  {
   "cell_type": "code",
   "execution_count": null,
   "metadata": {
    "tags": []
   },
   "outputs": [],
   "source": [
    "profit_genres_mean = final_movie_df[['genres','gross_profit']].groupby(['genres']).agg(['count','mean', 'median'])\n",
    "profit_genres_mean.sort_values(by=('gross_profit','count'), ascending=False).head(20)"
   ]
  },
  {
   "cell_type": "code",
   "execution_count": null,
   "metadata": {
    "tags": []
   },
   "outputs": [],
   "source": [
    "# Visulaise the average profit per genre combination\n",
    "genre_profit = final_movie_df.groupby('genres')['gross_profit'].mean().sort_values(ascending=False).head(20)\n",
    "plt.figure(figsize=(14, 10))\n",
    "bars = plt.barh(genre_profit.index, genre_profit.values, color='skyblue')\n",
    "plt.xlabel('Profit ($00000000)')\n",
    "plt.title('Profit by Genre')\n",
    "plt.tight_layout()\n",
    "plt.show()"
   ]
  },
  {
   "cell_type": "markdown",
   "metadata": {
    "tags": []
   },
   "source": [
    "### Does Release Date Influence Opening Weekend Box Office Success?\n",
    "Studios release movies  based on particular holidays and months in order to target the overall sentiments. This means some months have higher revenue generation than other months. The visualisation below illustrates five months that have high profits, namely:\n",
    "- **May**\n",
    "- **June**\n",
    "- **July**\n",
    "- **November**\n",
    "- **December**\n",
    "\n",
    "It would be advisable to the buisness to consider timing it's releases around these months for better returns."
   ]
  },
  {
   "cell_type": "code",
   "execution_count": null,
   "metadata": {
    "tags": []
   },
   "outputs": [],
   "source": [
    "average_profit_per_month = final_movie_df.groupby('release_month')['gross_profit'].mean()\n",
    "\n",
    "# Plotting the average profit per month\n",
    "plt.figure(figsize=(14, 7))\n",
    "plt.plot(average_profit_per_month.index, average_profit_per_month.values, label='Average Profit', marker='o', linestyle='-')\n",
    "plt.xlabel('Month')\n",
    "plt.ylabel('Average Profit ($)')\n",
    "plt.title('Average Monthly Profit')\n",
    "plt.legend()\n",
    "plt.grid(True)\n",
    "plt.tight_layout()\n",
    "plt.show()"
   ]
  },
  {
   "cell_type": "markdown",
   "metadata": {},
   "source": [
    "To specify the release day's of the month with most gross profit, below is an additional visualization for this variable. The most successful realease day is usually on the **3rd of the month** as shown."
   ]
  },
  {
   "cell_type": "code",
   "execution_count": null,
   "metadata": {
    "tags": []
   },
   "outputs": [],
   "source": [
    "average_profit_per_date = final_movie_df.groupby('release_day')['gross_profit'].mean()\n",
    "\n",
    "# Plotting the average profit per month\n",
    "plt.figure(figsize=(14, 7))\n",
    "plt.plot(average_profit_per_date.index, average_profit_per_date.values, label='Average Profit', marker='o', linestyle='-')\n",
    "plt.xlabel('Month')\n",
    "plt.ylabel('Average Profit ($)')\n",
    "plt.title('Average Date Profit')\n",
    "plt.legend()\n",
    "plt.grid(True)\n",
    "plt.tight_layout()\n",
    "plt.show()"
   ]
  },
  {
   "cell_type": "markdown",
   "metadata": {},
   "source": [
    "### Which directors have the highest success rate?\n",
    "Based on experience and mean gross profit the top five directors the new buisness stakeholders can trust with a big budget film are:\n",
    "- **Steven Spielberg**\n",
    "- **Clint Eastwood**\n",
    "- **Francis Lawrence**\n",
    "- **Jon M. Chu**\n",
    "- **Tim Story**\n",
    "\n",
    "These directors have consistent profitability in the projects they undertake despite not having the highest grossing films of all time."
   ]
  },
  {
   "cell_type": "code",
   "execution_count": null,
   "metadata": {
    "tags": []
   },
   "outputs": [],
   "source": [
    "profit_directors_mean = final_movie_df[['director','gross_profit']].groupby(['director']).agg(['count','mean', 'median'])\n",
    "profit_directors_mean.sort_values(by=('gross_profit','count'), ascending=False).head(20)"
   ]
  },
  {
   "cell_type": "code",
   "execution_count": null,
   "metadata": {
    "tags": []
   },
   "outputs": [],
   "source": [
    "directors_profit = final_movie_df.groupby('director')['gross_profit'].mean().sort_values(ascending=False).head(20)\n",
    "plt.figure(figsize=(14, 10))\n",
    "bars = plt.barh(directors_profit.index, directors_profit.values, color='darkblue')\n",
    "plt.xlabel('Profit ($00000000)')\n",
    "plt.title('Profit by Genre')\n",
    "plt.tight_layout()\n",
    "plt.show()"
   ]
  },
  {
   "cell_type": "markdown",
   "metadata": {
    "tags": []
   },
   "source": [
    "### Profit Projections For Future Years\n",
    "\n",
    "In addition to showing the best course of action when starting a film buisness, it would be prudent to have a projection of the market based on available data to provide insight on whether the trend is favourable."
   ]
  },
  {
   "cell_type": "code",
   "execution_count": null,
   "metadata": {
    "tags": []
   },
   "outputs": [],
   "source": [
    "from sklearn.preprocessing import StandardScaler, OneHotEncoder\n",
    "from sklearn.compose import ColumnTransformer\n",
    "from sklearn.pipeline import Pipeline\n",
    "from sklearn.model_selection import train_test_split\n",
    "from sklearn.linear_model import LinearRegression\n",
    "from sklearn.metrics import mean_squared_error, mean_absolute_error, r2_score\n",
    "\n",
    "# Example data\n",
    "# final_movie_df = pd.read_csv('your_data.csv')  # Load your data here\n",
    "\n",
    "# Prepare feature columns and target variable\n",
    "features = ['production_budget', 'year', 'genres', 'director', 'averagerating', 'release_month', 'release_day']\n",
    "target = 'gross_profit'\n",
    "\n",
    "# Define numerical and categorical features\n",
    "numerical_features = ['production_budget', 'year', 'averagerating']\n",
    "categorical_features = ['genres', 'director', 'release_month', 'release_day']\n",
    "\n",
    "# Create a column transformer\n",
    "preprocessor = ColumnTransformer(\n",
    "    transformers=[\n",
    "        ('num', StandardScaler(), numerical_features),\n",
    "        ('cat', OneHotEncoder(drop='first'), categorical_features)\n",
    "    ])\n",
    "\n",
    "# Prepare Data for Regression\n",
    "X = final_movie_df[features]\n",
    "y = final_movie_df[target]\n",
    "\n",
    "# Apply preprocessing\n",
    "X_preprocessed = preprocessor.fit_transform(X)\n",
    "\n",
    "# Split the data\n",
    "X_train, X_test, y_train, y_test = train_test_split(X_preprocessed, y, test_size=0.2, random_state=42)\n",
    "\n",
    "# Initialize and train the linear regression model\n",
    "model = LinearRegression()\n",
    "model.fit(X_train, y_train)\n",
    "\n",
    "# Predict on the test set\n",
    "y_pred = model.predict(X_test)\n",
    "\n",
    "# Evaluate the model\n",
    "mse = mean_squared_error(y_test, y_pred)\n",
    "mae = mean_absolute_error(y_test, y_pred)\n",
    "r2 = r2_score(y_test, y_pred)\n",
    "\n",
    "print(f'MSE: {mse}, MAE: {mae}, R^2: {r2}')\n",
    "\n",
    "# Print model coefficients\n",
    "feature_names = (\n",
    "    numerical_features +\n",
    "    list(preprocessor.named_transformers_['cat'].get_feature_names_out())\n",
    ")\n",
    "coefficients = pd.DataFrame(model.coef_, feature_names, columns=['Coefficient'])\n",
    "coefficients"
   ]
  },
  {
   "cell_type": "code",
   "execution_count": null,
   "metadata": {
    "tags": []
   },
   "outputs": [],
   "source": [
    "import pandas as pd\n",
    "import numpy as np\n",
    "import seaborn as sns\n",
    "import matplotlib.pyplot as plt\n",
    "from sklearn.linear_model import LinearRegression\n",
    "from sklearn.preprocessing import StandardScaler\n",
    "\n",
    "# Sample DataFrame (Replace with your actual DataFrame)\n",
    "final_movie_df = pd.DataFrame({\n",
    "    'production_budget': np.random.randint(1e7, 1e8, 1000),\n",
    "    'year': np.random.randint(2000, 2024, 1000),\n",
    "    'averagerating': np.random.uniform(1, 10, 1000),\n",
    "    'genres': np.random.choice(['Action,Drama,Adventure', 'Adventure,Sci-Fi,Action', 'Adventure,Fantasy,Action', 'Other'], 1000),\n",
    "    'director': np.random.choice(['Steven Spielberg', 'Clint Eastwood', 'Francis Lawrence', 'Jon M. Chu', 'Tim Story', 'Other'], 1000),\n",
    "    'release_month': np.random.choice(['May', 'June', 'July', 'November', 'December', 'Other'], 1000),\n",
    "    'gross_profit': np.random.uniform(1e7, 1e8, 1000)\n",
    "})\n",
    "\n",
    "# Encode categorical variables\n",
    "final_movie_df = pd.get_dummies(final_movie_df, columns=['genres', 'director', 'release_month'], drop_first=True)\n",
    "\n",
    "# Normalize numerical features\n",
    "numerical_features = ['production_budget', 'year', 'averagerating']\n",
    "scaler = StandardScaler()\n",
    "final_movie_df[numerical_features] = scaler.fit_transform(final_movie_df[numerical_features])\n",
    "\n",
    "# Prepare Data for Regression\n",
    "X = final_movie_df[['production_budget', 'year', 'averagerating'] + \n",
    "                    [col for col in final_movie_df.columns if col.startswith('genres_')] + \n",
    "                    [col for col in final_movie_df.columns if col.startswith('director_')] + \n",
    "                    [col for col in final_movie_df.columns if col.startswith('release_month_')]]\n",
    "y = final_movie_df['gross_profit']\n",
    "\n",
    "# Fit the Linear Regression Model\n",
    "model = LinearRegression()\n",
    "model.fit(X, y)\n",
    "\n",
    "# Define combinations, top directors, and high-profit months\n",
    "genre_combinations = ['Action,Drama,Adventure', 'Adventure,Sci-Fi,Action', 'Adventure,Fantasy,Action']\n",
    "top_directors = ['Steven Spielberg', 'Clint Eastwood', 'Francis Lawrence', 'Jon M. Chu', 'Tim Story']\n",
    "high_profit_months = ['May', 'June', 'July', 'November', 'December']\n",
    "\n",
    "# Create a DataFrame for projections\n",
    "projections = []\n",
    "\n",
    "for genre in genre_combinations:\n",
    "    for director in top_directors:\n",
    "        for month in high_profit_months:\n",
    "            # Create a new row for prediction\n",
    "            new_row = {\n",
    "                'production_budget': [1],  # Adjust as needed\n",
    "                'year': [2024],  # Adjust as needed\n",
    "                'averagerating': [7],  # Adjust as needed\n",
    "            }\n",
    "            \n",
    "            # Add genre, director, and month columns\n",
    "            for g in final_movie_df.columns:\n",
    "                if g.startswith('genres_'):\n",
    "                    new_row[g] = [1 if genre in g else 0]\n",
    "                elif g.startswith('director_'):\n",
    "                    new_row[g] = [1 if director in g else 0]\n",
    "                elif g.startswith('release_month_'):\n",
    "                    new_row[g] = [1 if month in g else 0]\n",
    "            \n",
    "            # Convert to DataFrame\n",
    "            new_df = pd.DataFrame(new_row)\n",
    "            new_df[numerical_features] = scaler.transform(new_df[numerical_features])\n",
    "            \n",
    "            # Predict the gross profit\n",
    "            predicted_profit = model.predict(new_df)[0]\n",
    "            projections.append({\n",
    "                'Genre Combination': genre,\n",
    "                'Director': director,\n",
    "                'Month': month,\n",
    "                'Predicted Gross Profit': predicted_profit\n",
    "            })\n",
    "\n",
    "# Convert projections to DataFrame\n",
    "projections_df = pd.DataFrame(projections)\n",
    "\n",
    "# Visualization using seaborn\n",
    "plt.figure(figsize=(14, 7))\n",
    "\n",
    "# Plot projections by genre and director\n",
    "sns.barplot(data=projections_df, x='Genre Combination', y='Predicted Gross Profit', hue='Director', palette='viridis')\n",
    "\n",
    "plt.xlabel('Genre Combination')\n",
    "plt.ylabel('Predicted Gross Profit ($)')\n",
    "plt.title('Projected Gross Profit by Genre Combination and Director')\n",
    "plt.xticks(rotation=45, ha='right')\n",
    "plt.legend(title='Director')\n",
    "plt.tight_layout()\n",
    "plt.show()\n",
    "\n",
    "# Plot average gross profit for high-profit months\n",
    "monthly_profit_avg = final_movie_df[final_movie_df.filter(like='release_month_').columns].copy()\n",
    "monthly_profit_avg['gross_profit'] = final_movie_df['gross_profit']\n",
    "\n",
    "# Aggregate by month\n",
    "monthly_profit_avg = final_movie_df.groupby(\n",
    "    [col for col in final_movie_df.columns if col.startswith('release_month_')]\n",
    ")['gross_profit'].mean().reset_index()\n",
    "\n",
    "# Melt the DataFrame for better visualization\n",
    "monthly_profit_avg = monthly_profit_avg.melt(id_vars=['gross_profit'], var_name='Month', value_name='Average Gross Profit')\n",
    "\n",
    "plt.figure(figsize=(12, 6))\n",
    "sns.barplot(data=monthly_profit_avg, x='Month', y='Average Gross Profit', palette='coolwarm')\n",
    "\n",
    "plt.xlabel('Month')\n",
    "plt.ylabel('Average Gross Profit ($)')\n",
    "plt.title('Average Gross Profit by Month')\n",
    "plt.xticks(rotation=45, ha='right')\n",
    "plt.tight_layout()\n",
    "plt.show()\n"
   ]
  },
  {
   "cell_type": "code",
   "execution_count": null,
   "metadata": {},
   "outputs": [],
   "source": []
  }
 ],
 "metadata": {
  "kernelspec": {
   "display_name": "Python 3 (ipykernel)",
   "language": "python",
   "name": "python3"
  },
  "language_info": {
   "codemirror_mode": {
    "name": "ipython",
    "version": 3
   },
   "file_extension": ".py",
   "mimetype": "text/x-python",
   "name": "python",
   "nbconvert_exporter": "python",
   "pygments_lexer": "ipython3",
   "version": "3.11.7"
  }
 },
 "nbformat": 4,
 "nbformat_minor": 4
}
